{
 "cells": [
  {
   "cell_type": "code",
   "execution_count": 12,
   "id": "072e4053",
   "metadata": {},
   "outputs": [],
   "source": [
    "import os\n",
    "import pandas as pd\n",
    "import plotly.express as px\n",
    "import plotly.graph_objects as go\n",
    "import re"
   ]
  },
  {
   "cell_type": "code",
   "execution_count": 13,
   "id": "6637bb5e",
   "metadata": {},
   "outputs": [],
   "source": [
    "# construct the data\n",
    "data_path = \"../Data\"\n",
    "swiss_production = pd.read_excel(os.path.join(data_path, \"GlobalData/swissProdYears.xlsx\"), sheet_name = 'Sheet1')\n",
    "unnecessary_cols = [col for col in swiss_production.columns if col != 'Item' and not any(char.isdigit() for char in col)]\n",
    "swiss_production = swiss_production.drop(columns=unnecessary_cols)\n",
    "swiss_production = swiss_production.melt(id_vars='Item', var_name='Year', value_name='Value')\n",
    "swiss_production['Year'] = swiss_production['Year'].str.extract('(\\d+)', expand=False).astype(int)"
   ]
  },
  {
   "cell_type": "code",
   "execution_count": 16,
   "id": "9c7e750d-731a-4e79-ad88-b9a5d91049fd",
   "metadata": {},
   "outputs": [],
   "source": [
    "colors = ['#F77979', '#AFDA41', '#AA482A', '#EC8F2F', '#E2E23F', '#297F05', '#13A691', '#7550BD', '#C148C5', \n",
    "          '#E87F60', '#F7C940', '#8CC102', '#235E25', '#034A33', '#77EDF7', '#4D518E', '#C15DA1', '#812D42',\n",
    "          '#C1735B', '#9E8615', '#8BC161', '#084E27', '#719FA8', '#807C9A', '#805390', '#D686C8', '#BF5376']"
   ]
  },
  {
   "cell_type": "code",
   "execution_count": 17,
   "id": "f0cdcb43",
   "metadata": {},
   "outputs": [
    {
     "data": {
      "text/html": [
       "<iframe\n",
       "    scrolling=\"no\"\n",
       "    width=\"100%\"\n",
       "    height=\"545px\"\n",
       "    src=\"iframe_figures/figure_17.html\"\n",
       "    frameborder=\"0\"\n",
       "    allowfullscreen\n",
       "></iframe>\n"
      ]
     },
     "metadata": {},
     "output_type": "display_data"
    }
   ],
   "source": [
    "# construct the first chart\n",
    "year = swiss_production['Year'].min()\n",
    "df_filtered = swiss_production[swiss_production['Year'] == year]\n",
    "pie_num = len(df_filtered['Item'].unique())\n",
    "pie_color = colors[0:pie_num]\n",
    "fig = go.Figure(data=[go.Pie(labels=df_filtered['Item'], values=df_filtered['Value'], marker=dict(colors=pie_color))])\n",
    "fig.update_layout(title=f'food consumption ({year})')\n",
    "\n",
    "# create the slider\n",
    "year_slider = go.layout.Slider(\n",
    "    active=0,\n",
    "    steps=[{'label': str(year), 'method': 'update', 'args': [{'values': [swiss_production[swiss_production['Year'] == year]['Value']], 'title': f\"food consumption ({year})\"}]} for year in swiss_production['Year'].unique()],\n",
    "    currentvalue={'prefix': 'Year: '},\n",
    ")\n",
    "\n",
    "# update the pie chart according to the slider\n",
    "fig.update_layout(sliders=[year_slider])\n",
    "\n",
    "fig.show(renderer=\"iframe\")"
   ]
  },
  {
   "cell_type": "code",
   "execution_count": 11,
   "id": "dc2ac3e4-1bf6-4e37-8366-58e8dd56094c",
   "metadata": {},
   "outputs": [],
   "source": [
    "fig.write_html(\"swiss.html\")"
   ]
  },
  {
   "cell_type": "code",
   "execution_count": 4,
   "id": "ddc4a16a",
   "metadata": {},
   "outputs": [
    {
     "data": {
      "text/html": [
       "<iframe\n",
       "    scrolling=\"no\"\n",
       "    width=\"100%\"\n",
       "    height=\"545px\"\n",
       "    src=\"iframe_figures/figure_4.html\"\n",
       "    frameborder=\"0\"\n",
       "    allowfullscreen\n",
       "></iframe>\n"
      ]
     },
     "metadata": {},
     "output_type": "display_data"
    }
   ],
   "source": [
    "foodgroup_contrib = pd.read_excel(os.path.join(data_path, \"Global.xlsx\"), sheet_name = 'Table S2', skiprows = 1)\n"
   ]
  },
  {
   "cell_type": "code",
   "execution_count": null,
   "id": "142bd3f4",
   "metadata": {},
   "outputs": [],
   "source": []
  }
 ],
 "metadata": {
  "kernelspec": {
   "display_name": "Python 3 (ipykernel)",
   "language": "python",
   "name": "python3"
  },
  "language_info": {
   "codemirror_mode": {
    "name": "ipython",
    "version": 3
   },
   "file_extension": ".py",
   "mimetype": "text/x-python",
   "name": "python",
   "nbconvert_exporter": "python",
   "pygments_lexer": "ipython3",
   "version": "3.10.9"
  },
  "toc": {
   "base_numbering": 1,
   "nav_menu": {},
   "number_sections": true,
   "sideBar": true,
   "skip_h1_title": false,
   "title_cell": "Table of Contents",
   "title_sidebar": "Contents",
   "toc_cell": false,
   "toc_position": {},
   "toc_section_display": true,
   "toc_window_display": false
  }
 },
 "nbformat": 4,
 "nbformat_minor": 5
}
