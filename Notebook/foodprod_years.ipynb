{
 "cells": [
  {
   "cell_type": "code",
   "execution_count": 1,
   "id": "072e4053",
   "metadata": {},
   "outputs": [],
   "source": [
    "import os\n",
    "import pandas as pd\n",
    "import plotly.express as px\n",
    "import plotly.graph_objects as go\n",
    "import re"
   ]
  },
  {
   "cell_type": "code",
   "execution_count": 5,
   "id": "6637bb5e",
   "metadata": {},
   "outputs": [],
   "source": [
    "# construct the data\n",
    "data_path = \"../Data/prodYears\"\n",
    "swiss_production = pd.read_excel(os.path.join(data_path, \"swissProdYears.xlsx\"), sheet_name = 'Sheet1')\n",
    "unnecessary_cols = [col for col in swiss_production.columns if col != 'Item' and not any(char.isdigit() for char in col)]\n",
    "swiss_production = swiss_production.drop(columns=unnecessary_cols)\n",
    "swiss_production = swiss_production.melt(id_vars='Item', var_name='Year', value_name='Value')\n",
    "swiss_production['Year'] = swiss_production['Year'].str.extract('(\\d+)', expand=False).astype(int)"
   ]
  },
  {
   "cell_type": "code",
   "execution_count": 10,
   "id": "f0cdcb43",
   "metadata": {},
   "outputs": [
    {
     "data": {
      "text/html": [
       "<iframe\n",
       "    scrolling=\"no\"\n",
       "    width=\"100%\"\n",
       "    height=\"545px\"\n",
       "    src=\"iframe_figures/figure_10.html\"\n",
       "    frameborder=\"0\"\n",
       "    allowfullscreen\n",
       "></iframe>\n"
      ]
     },
     "metadata": {},
     "output_type": "display_data"
    }
   ],
   "source": [
    "# construct the first chart\n",
    "year = swiss_production['Year'].min()\n",
    "df_filtered = swiss_production[swiss_production['Year'] == year]\n",
    "fig = go.Figure(data=[go.Pie(labels=df_filtered['Item'], values=df_filtered['Value'])])\n",
    "fig.update_layout(title=f'food consumption ({year})')\n",
    "\n",
    "# create the slider\n",
    "year_slider = go.layout.Slider(\n",
    "    active=0,\n",
    "    steps=[{'label': str(year), 'method': 'update', 'args': [{'values': [swiss_production[swiss_production['Year'] == year]['Value']], 'title': f\"food consumption ({year})\"}]} for year in swiss_production['Year'].unique()],\n",
    "    currentvalue={'prefix': 'Year: '},\n",
    ")\n",
    "\n",
    "# update the pie chart according to the slider\n",
    "fig.update_layout(sliders=[year_slider])\n",
    "\n",
    "fig.show(renderer=\"iframe\")"
   ]
  },
  {
   "cell_type": "code",
   "execution_count": 11,
   "id": "dc2ac3e4-1bf6-4e37-8366-58e8dd56094c",
   "metadata": {},
   "outputs": [],
   "source": [
    "fig.write_html(\"swiss.html\")"
   ]
  },
  {
   "cell_type": "code",
   "execution_count": 4,
   "id": "ddc4a16a",
   "metadata": {},
   "outputs": [
    {
     "data": {
      "text/html": [
       "<iframe\n",
       "    scrolling=\"no\"\n",
       "    width=\"100%\"\n",
       "    height=\"545px\"\n",
       "    src=\"iframe_figures/figure_4.html\"\n",
       "    frameborder=\"0\"\n",
       "    allowfullscreen\n",
       "></iframe>\n"
      ]
     },
     "metadata": {},
     "output_type": "display_data"
    }
   ],
   "source": [
    "import pandas as pd\n",
    "import plotly.graph_objects as go\n",
    "import plotly.io as pio\n",
    "\n",
    "# 创建示例数据\n",
    "data = {\n",
    "    '年份': [2018, 2018, 2018, 2019, 2019, 2019, 2020, 2020, 2020],\n",
    "    '食物类型': ['苹果', '香蕉', '橙子', '苹果', '香蕉', '橙子', '苹果', '香蕉', '橙子'],\n",
    "    '消耗量': [100, 200, 150, 120, 180, 90, 130, 170, 160]\n",
    "}\n",
    "\n",
    "df = pd.DataFrame(data)\n",
    "\n",
    "# 创建初始年份的饼图\n",
    "year = 2018\n",
    "df_filtered = df[df['年份'] == year]\n",
    "colors = {'苹果': 'pink', '香蕉': 'yellow', '橙子': 'orange'}\n",
    "# fig = go.Figure(data=[go.Pie(labels=df_filtered['食物类型'], values=df_filtered['消耗量'])])\n",
    "fig = go.Figure(data=[go.Pie(labels=df_filtered['食物类型'], values=df_filtered['消耗量'], marker=dict(colors=[colors[item] for item in df_filtered['食物类型']]))])\n",
    "fig.update_layout(title=f'不同食物消耗量 ({year})')\n",
    "\n",
    "# 创建拖动条\n",
    "year_slider = go.layout.Slider(\n",
    "    active=0,\n",
    "    steps=[{'label': str(year), 'method': 'update', 'args': [{'values': [df[df['年份'] == year]['消耗量']], 'title': f\"不同食物消耗量 ({year})\"}]} for year in df['年份'].unique()],\n",
    "    currentvalue={'prefix': '年份: '},\n",
    ")\n",
    "\n",
    "# 更新图表布局以包含拖动条\n",
    "fig.update_layout(sliders=[year_slider])\n",
    "\n",
    "# 显示图表\n",
    "fig.show(renderer=\"iframe\")"
   ]
  },
  {
   "cell_type": "code",
   "execution_count": null,
   "id": "142bd3f4",
   "metadata": {},
   "outputs": [],
   "source": []
  }
 ],
 "metadata": {
  "kernelspec": {
   "display_name": "Python 3 (ipykernel)",
   "language": "python",
   "name": "python3"
  },
  "language_info": {
   "codemirror_mode": {
    "name": "ipython",
    "version": 3
   },
   "file_extension": ".py",
   "mimetype": "text/x-python",
   "name": "python",
   "nbconvert_exporter": "python",
   "pygments_lexer": "ipython3",
   "version": "3.10.9"
  },
  "toc": {
   "base_numbering": 1,
   "nav_menu": {},
   "number_sections": true,
   "sideBar": true,
   "skip_h1_title": false,
   "title_cell": "Table of Contents",
   "title_sidebar": "Contents",
   "toc_cell": false,
   "toc_position": {},
   "toc_section_display": true,
   "toc_window_display": false
  }
 },
 "nbformat": 4,
 "nbformat_minor": 5
}
