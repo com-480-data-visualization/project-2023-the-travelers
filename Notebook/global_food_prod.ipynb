{
 "cells": [
  {
   "cell_type": "code",
   "execution_count": 69,
   "id": "072e4053",
   "metadata": {},
   "outputs": [],
   "source": [
    "import os\n",
    "import pandas as pd\n",
    "import plotly.express as px\n",
    "import plotly.graph_objects as go\n",
    "import re"
   ]
  },
  {
   "cell_type": "code",
   "execution_count": 89,
   "id": "9d3858bc",
   "metadata": {},
   "outputs": [
    {
     "data": {
      "text/plain": [
       "34"
      ]
     },
     "execution_count": 89,
     "metadata": {},
     "output_type": "execute_result"
    }
   ],
   "source": [
    "colors0 = ['#F77979', '#AFDA41', '#CE6E51', '#EC8F2F', '#E2E23F', '#93C57E', '#13A691', '#8A72BD', '#E197E2', \n",
    "          '#E87F60', '#F7C940', '#8CC102', '#3D7F3F', '#086B4B', '#77EDF7', '#4D518E', '#C15DA1', '#AF6577',\n",
    "          '#C1735B', '#9E8615', '#8BC161', '#084E27', '#719FA8', '#807C9A', '#805390', '#D686C8', '#BF5376']\n",
    "colors = (px.colors.qualitative.Set3) + (px.colors.qualitative.Pastel1) + (px.colors.qualitative.Pastel)\n",
    "len(colors)"
   ]
  },
  {
   "cell_type": "code",
   "execution_count": 95,
   "id": "6637bb5e",
   "metadata": {},
   "outputs": [
    {
     "data": {
      "text/html": [
       "<iframe\n",
       "    scrolling=\"no\"\n",
       "    width=\"100%\"\n",
       "    height=\"545px\"\n",
       "    src=\"iframe_figures/figure_95.html\"\n",
       "    frameborder=\"0\"\n",
       "    allowfullscreen\n",
       "></iframe>\n"
      ]
     },
     "metadata": {},
     "output_type": "display_data"
    },
    {
     "data": {
      "text/html": [
       "<iframe\n",
       "    scrolling=\"no\"\n",
       "    width=\"100%\"\n",
       "    height=\"545px\"\n",
       "    src=\"iframe_figures/figure_95.html\"\n",
       "    frameborder=\"0\"\n",
       "    allowfullscreen\n",
       "></iframe>\n"
      ]
     },
     "metadata": {},
     "output_type": "display_data"
    },
    {
     "data": {
      "text/html": [
       "<iframe\n",
       "    scrolling=\"no\"\n",
       "    width=\"100%\"\n",
       "    height=\"545px\"\n",
       "    src=\"iframe_figures/figure_95.html\"\n",
       "    frameborder=\"0\"\n",
       "    allowfullscreen\n",
       "></iframe>\n"
      ]
     },
     "metadata": {},
     "output_type": "display_data"
    },
    {
     "data": {
      "text/html": [
       "<iframe\n",
       "    scrolling=\"no\"\n",
       "    width=\"100%\"\n",
       "    height=\"545px\"\n",
       "    src=\"iframe_figures/figure_95.html\"\n",
       "    frameborder=\"0\"\n",
       "    allowfullscreen\n",
       "></iframe>\n"
      ]
     },
     "metadata": {},
     "output_type": "display_data"
    },
    {
     "data": {
      "text/html": [
       "<iframe\n",
       "    scrolling=\"no\"\n",
       "    width=\"100%\"\n",
       "    height=\"545px\"\n",
       "    src=\"iframe_figures/figure_95.html\"\n",
       "    frameborder=\"0\"\n",
       "    allowfullscreen\n",
       "></iframe>\n"
      ]
     },
     "metadata": {},
     "output_type": "display_data"
    },
    {
     "data": {
      "text/html": [
       "<iframe\n",
       "    scrolling=\"no\"\n",
       "    width=\"100%\"\n",
       "    height=\"545px\"\n",
       "    src=\"iframe_figures/figure_95.html\"\n",
       "    frameborder=\"0\"\n",
       "    allowfullscreen\n",
       "></iframe>\n"
      ]
     },
     "metadata": {},
     "output_type": "display_data"
    },
    {
     "data": {
      "text/html": [
       "<iframe\n",
       "    scrolling=\"no\"\n",
       "    width=\"100%\"\n",
       "    height=\"545px\"\n",
       "    src=\"iframe_figures/figure_95.html\"\n",
       "    frameborder=\"0\"\n",
       "    allowfullscreen\n",
       "></iframe>\n"
      ]
     },
     "metadata": {},
     "output_type": "display_data"
    },
    {
     "data": {
      "text/html": [
       "<iframe\n",
       "    scrolling=\"no\"\n",
       "    width=\"100%\"\n",
       "    height=\"545px\"\n",
       "    src=\"iframe_figures/figure_95.html\"\n",
       "    frameborder=\"0\"\n",
       "    allowfullscreen\n",
       "></iframe>\n"
      ]
     },
     "metadata": {},
     "output_type": "display_data"
    },
    {
     "data": {
      "text/html": [
       "<iframe\n",
       "    scrolling=\"no\"\n",
       "    width=\"100%\"\n",
       "    height=\"545px\"\n",
       "    src=\"iframe_figures/figure_95.html\"\n",
       "    frameborder=\"0\"\n",
       "    allowfullscreen\n",
       "></iframe>\n"
      ]
     },
     "metadata": {},
     "output_type": "display_data"
    }
   ],
   "source": [
    "# construct the data\n",
    "data_path = \"../Data\"\n",
    "selected_food_map_per_c = {\"cereals\": [\"Cereals - Excluding Beer\"], \"meat\": [\"Meat\", \"Offals\", \"Animal fats\"], \"milk&eggs\": [\"Eggs\", \"Milk - Excluding Butter\"], \"aquatic food\":[\"Fish, Seafood\", \"Aquatic Products, Other\"], \n",
    "                            \"fruit&veg\": [\"Vegetables\", \"Fruits - Excluding Wine\"], \"oil\":[\"Oilcrops\", \"Vegetable Oils\"], \"nuts\": [\"Treenuts\"], \"beans\":[\"Pulses\"], \n",
    "                            \"roots\": [\"Starchy Roots\"], \"sugar\": [\"Sugar & Sweeteners\"], \"other\": [\"Stimulants\", \"Spices\", \"Alcoholic Beverages\"]}\n",
    "countries = [\"Swiss\", \"China\", \"India\", \"Thai\", \"UK\", \"Germany\", \"USA\", \"Italy\", \"SAfrica\"]\n",
    "for country in countries:\n",
    "    country_production = pd.read_excel(os.path.join(data_path, \"GlobalData/countryProdYears.xlsx\"), sheet_name = country)\n",
    "    unnecessary_cols = [col for col in country_production.columns if (col != 'Item' and col != 'Area') and not any(char.isdigit() for char in col)]\n",
    "    country_production = country_production.drop(columns=unnecessary_cols)\n",
    "    fooditem_list = []\n",
    "    year_cols = [col for col in country_production.columns if any(char.isdigit() for char in col)]\n",
    "    for food in selected_food_map_per_c.keys():\n",
    "        rows_to_add = country_production[country_production['Item'].isin(selected_food_map_per_c[food])]\n",
    "        new_df = rows_to_add.groupby(('Area'))[year_cols].sum().reset_index()\n",
    "        new_df[\"Item\"] = food\n",
    "        fooditem_list.append(new_df)\n",
    "\n",
    "    country_production = pd.concat(fooditem_list, ignore_index=True)\n",
    "    country_production = country_production.drop(columns=[\"Area\"])\n",
    "    country_production = country_production.melt(id_vars='Item', var_name='Year', value_name='Value')\n",
    "    country_production['Year'] = country_production['Year'].str.extract('(\\d+)', expand=False).astype(int)\n",
    "    \n",
    "    # construct the first chart\n",
    "    year = country_production['Year'].min()\n",
    "    df_filtered = country_production[country_production['Year'] == year]\n",
    "    pie_num = len(df_filtered['Item'].unique())\n",
    "    pie_color = colors[0:pie_num]\n",
    "    fig = go.Figure(data=[go.Pie(labels=df_filtered['Item'], values=df_filtered['Value'], marker=dict(colors=pie_color), textposition=\"inside\")])\n",
    "    fig.update_layout(title=\"Food category production [1961-2013] in \" + country)\n",
    "\n",
    "    # create the slider\n",
    "    year_slider = go.layout.Slider(\n",
    "        active=0,\n",
    "        steps=[{'label': str(year), 'method': 'update', 'args': [{'values': [country_production[country_production['Year'] == year]['Value']], 'title': f\"food production ({year})\"}]} for year in country_production['Year'].unique()],\n",
    "        currentvalue={'prefix': 'Year: '},\n",
    "    )\n",
    "\n",
    "    # update the pie chart according to the slider\n",
    "    fig.update_layout(sliders=[year_slider])\n",
    "\n",
    "    fig.show(renderer=\"iframe\")\n",
    "    fig.write_html(\"../website/country_pages/\" + country + \"Prod.html\")\n"
   ]
  },
  {
   "cell_type": "code",
   "execution_count": null,
   "id": "f0cdcb43",
   "metadata": {},
   "outputs": [],
   "source": []
  },
  {
   "cell_type": "code",
   "execution_count": 51,
   "id": "dc2ac3e4-1bf6-4e37-8366-58e8dd56094c",
   "metadata": {},
   "outputs": [],
   "source": []
  },
  {
   "cell_type": "code",
   "execution_count": 72,
   "id": "ddc4a16a",
   "metadata": {},
   "outputs": [
    {
     "data": {
      "text/html": [
       "<div>\n",
       "<style scoped>\n",
       "    .dataframe tbody tr th:only-of-type {\n",
       "        vertical-align: middle;\n",
       "    }\n",
       "\n",
       "    .dataframe tbody tr th {\n",
       "        vertical-align: top;\n",
       "    }\n",
       "\n",
       "    .dataframe thead th {\n",
       "        text-align: right;\n",
       "    }\n",
       "</style>\n",
       "<table border=\"1\" class=\"dataframe\">\n",
       "  <thead>\n",
       "    <tr style=\"text-align: right;\">\n",
       "      <th></th>\n",
       "      <th>Region</th>\n",
       "      <th>Energy</th>\n",
       "      <th>Protein</th>\n",
       "      <th>Iron</th>\n",
       "      <th>Calcium</th>\n",
       "      <th>Vitamin B12</th>\n",
       "      <th>Folate</th>\n",
       "      <th>Vitamin E</th>\n",
       "      <th>Choline</th>\n",
       "      <th>Food group</th>\n",
       "    </tr>\n",
       "  </thead>\n",
       "  <tbody>\n",
       "    <tr>\n",
       "      <th>0</th>\n",
       "      <td>China</td>\n",
       "      <td>0.490248</td>\n",
       "      <td>0.341884</td>\n",
       "      <td>0.361084</td>\n",
       "      <td>0.083833</td>\n",
       "      <td>0.0</td>\n",
       "      <td>0.189607</td>\n",
       "      <td>0.206247</td>\n",
       "      <td>0.165830</td>\n",
       "      <td>cereals</td>\n",
       "    </tr>\n",
       "    <tr>\n",
       "      <th>1</th>\n",
       "      <td>East Asia &amp; Pacific</td>\n",
       "      <td>0.329435</td>\n",
       "      <td>0.401495</td>\n",
       "      <td>0.393697</td>\n",
       "      <td>0.124460</td>\n",
       "      <td>0.0</td>\n",
       "      <td>0.241784</td>\n",
       "      <td>0.063029</td>\n",
       "      <td>0.209859</td>\n",
       "      <td>cereals</td>\n",
       "    </tr>\n",
       "    <tr>\n",
       "      <th>2</th>\n",
       "      <td>Europe &amp; Central Asia</td>\n",
       "      <td>0.448411</td>\n",
       "      <td>0.417633</td>\n",
       "      <td>0.560702</td>\n",
       "      <td>0.091629</td>\n",
       "      <td>0.0</td>\n",
       "      <td>0.357855</td>\n",
       "      <td>0.154714</td>\n",
       "      <td>0.267914</td>\n",
       "      <td>cereals</td>\n",
       "    </tr>\n",
       "    <tr>\n",
       "      <th>3</th>\n",
       "      <td>High income</td>\n",
       "      <td>0.434355</td>\n",
       "      <td>0.339717</td>\n",
       "      <td>0.482498</td>\n",
       "      <td>0.066771</td>\n",
       "      <td>0.0</td>\n",
       "      <td>0.249864</td>\n",
       "      <td>0.242597</td>\n",
       "      <td>0.211144</td>\n",
       "      <td>cereals</td>\n",
       "    </tr>\n",
       "    <tr>\n",
       "      <th>4</th>\n",
       "      <td>India</td>\n",
       "      <td>0.610030</td>\n",
       "      <td>0.581884</td>\n",
       "      <td>0.586713</td>\n",
       "      <td>0.133449</td>\n",
       "      <td>0.0</td>\n",
       "      <td>0.293999</td>\n",
       "      <td>0.411259</td>\n",
       "      <td>0.384583</td>\n",
       "      <td>cereals</td>\n",
       "    </tr>\n",
       "  </tbody>\n",
       "</table>\n",
       "</div>"
      ],
      "text/plain": [
       "                  Region    Energy   Protein      Iron   Calcium  Vitamin B12  \\\n",
       "0                  China  0.490248  0.341884  0.361084  0.083833          0.0   \n",
       "1    East Asia & Pacific  0.329435  0.401495  0.393697  0.124460          0.0   \n",
       "2  Europe & Central Asia  0.448411  0.417633  0.560702  0.091629          0.0   \n",
       "3            High income  0.434355  0.339717  0.482498  0.066771          0.0   \n",
       "4                  India  0.610030  0.581884  0.586713  0.133449          0.0   \n",
       "\n",
       "     Folate  Vitamin E   Choline Food group  \n",
       "0  0.189607   0.206247  0.165830    cereals  \n",
       "1  0.241784   0.063029  0.209859    cereals  \n",
       "2  0.357855   0.154714  0.267914    cereals  \n",
       "3  0.249864   0.242597  0.211144    cereals  \n",
       "4  0.293999   0.411259  0.384583    cereals  "
      ]
     },
     "execution_count": 72,
     "metadata": {},
     "output_type": "execute_result"
    }
   ],
   "source": [
    "foodgroup_contrib_original = pd.read_excel(os.path.join(data_path, \"Global.xlsx\"), sheet_name = 'Table S2', skiprows = 1)\n",
    "selected_food_map = {\"cereals\": [\"cereals\"], \"meat\": [\"chicken\", \"pork\", \"ruminant_meat\"], \"milk&eggs\": [\"dairy\", \"eggs\"], \"aquatic food\":[\"fish\"], \n",
    "                    \"fruit&veg\": [\"fruits\", \"vegetables\", \"legumes\"], \"oil\":[\"oil\"], \"nuts\": [\"nuts\"], \"beans\":[\"soybeans\"], \n",
    "                    \"roots\": [\"roots\"], \"sugar\": [\"sugar\"], \"other\": [\"other\"]}\n",
    "\n",
    "foodgroup_contrib_list = []\n",
    "all_nutrients = [\"Energy\", \"Protein\", \"Iron\", \"Calcium\", \"Vitamin B12\", \"Folate\", \"Vitamin E\", \"Choline\"]\n",
    "for food in selected_food_map.keys():\n",
    "    rows_to_add = foodgroup_contrib_original[foodgroup_contrib_original['Food group'].isin(selected_food_map[food])]\n",
    "    new_df = rows_to_add.groupby(('Region'))[all_nutrients].sum().reset_index()\n",
    "    new_df[\"Food group\"] = food\n",
    "    foodgroup_contrib_list.append(new_df)\n",
    "\n",
    "foodgroup_contrib = pd.concat(foodgroup_contrib_list, ignore_index=True)\n",
    "foodgroup_contrib.head()"
   ]
  },
  {
   "cell_type": "code",
   "execution_count": 76,
   "id": "ab00bb08-56dd-4de4-ad7b-916d2f5f02ad",
   "metadata": {},
   "outputs": [
    {
     "data": {
      "text/html": [
       "<iframe\n",
       "    scrolling=\"no\"\n",
       "    width=\"100%\"\n",
       "    height=\"545px\"\n",
       "    src=\"iframe_figures/figure_76.html\"\n",
       "    frameborder=\"0\"\n",
       "    allowfullscreen\n",
       "></iframe>\n"
      ]
     },
     "metadata": {},
     "output_type": "display_data"
    },
    {
     "data": {
      "text/html": [
       "<iframe\n",
       "    scrolling=\"no\"\n",
       "    width=\"100%\"\n",
       "    height=\"545px\"\n",
       "    src=\"iframe_figures/figure_76.html\"\n",
       "    frameborder=\"0\"\n",
       "    allowfullscreen\n",
       "></iframe>\n"
      ]
     },
     "metadata": {},
     "output_type": "display_data"
    },
    {
     "data": {
      "text/html": [
       "<iframe\n",
       "    scrolling=\"no\"\n",
       "    width=\"100%\"\n",
       "    height=\"545px\"\n",
       "    src=\"iframe_figures/figure_76.html\"\n",
       "    frameborder=\"0\"\n",
       "    allowfullscreen\n",
       "></iframe>\n"
      ]
     },
     "metadata": {},
     "output_type": "display_data"
    },
    {
     "data": {
      "text/html": [
       "<iframe\n",
       "    scrolling=\"no\"\n",
       "    width=\"100%\"\n",
       "    height=\"545px\"\n",
       "    src=\"iframe_figures/figure_76.html\"\n",
       "    frameborder=\"0\"\n",
       "    allowfullscreen\n",
       "></iframe>\n"
      ]
     },
     "metadata": {},
     "output_type": "display_data"
    },
    {
     "data": {
      "text/html": [
       "<iframe\n",
       "    scrolling=\"no\"\n",
       "    width=\"100%\"\n",
       "    height=\"545px\"\n",
       "    src=\"iframe_figures/figure_76.html\"\n",
       "    frameborder=\"0\"\n",
       "    allowfullscreen\n",
       "></iframe>\n"
      ]
     },
     "metadata": {},
     "output_type": "display_data"
    },
    {
     "data": {
      "text/html": [
       "<iframe\n",
       "    scrolling=\"no\"\n",
       "    width=\"100%\"\n",
       "    height=\"545px\"\n",
       "    src=\"iframe_figures/figure_76.html\"\n",
       "    frameborder=\"0\"\n",
       "    allowfullscreen\n",
       "></iframe>\n"
      ]
     },
     "metadata": {},
     "output_type": "display_data"
    },
    {
     "data": {
      "text/html": [
       "<iframe\n",
       "    scrolling=\"no\"\n",
       "    width=\"100%\"\n",
       "    height=\"545px\"\n",
       "    src=\"iframe_figures/figure_76.html\"\n",
       "    frameborder=\"0\"\n",
       "    allowfullscreen\n",
       "></iframe>\n"
      ]
     },
     "metadata": {},
     "output_type": "display_data"
    },
    {
     "data": {
      "text/html": [
       "<iframe\n",
       "    scrolling=\"no\"\n",
       "    width=\"100%\"\n",
       "    height=\"545px\"\n",
       "    src=\"iframe_figures/figure_76.html\"\n",
       "    frameborder=\"0\"\n",
       "    allowfullscreen\n",
       "></iframe>\n"
      ]
     },
     "metadata": {},
     "output_type": "display_data"
    }
   ],
   "source": [
    "food_groups = foodgroup_contrib['Food group'].unique()\n",
    "regions = foodgroup_contrib['Region'].unique()\n",
    "# energy_contrib = foodgroup_contrib[['Food group', 'Region', 'Energy']]\n",
    "bar_color = colors[0:len(food_groups)]\n",
    "# fig = go.Figure()\n",
    "\n",
    "for nutrient in all_nutrients:\n",
    "    stack_bar = px.bar(data_frame=foodgroup_contrib, x=\"Region\", y=nutrient, color=\"Food group\", color_discrete_sequence = bar_color, text_auto=False)\n",
    "    stack_bar.show(renderer=\"iframe\")\n",
    "    stack_bar.write_html(\"../website/global_pages/\"+nutrient+\"_contrib.html\")"
   ]
  },
  {
   "cell_type": "code",
   "execution_count": 58,
   "id": "da4c86d0",
   "metadata": {},
   "outputs": [],
   "source": [
    "stack_bar.write_html(\"../website/global_pages/energy_contrib.html\")"
   ]
  },
  {
   "cell_type": "code",
   "execution_count": 94,
   "id": "56c5c157",
   "metadata": {},
   "outputs": [
    {
     "data": {
      "text/html": [
       "<iframe\n",
       "    scrolling=\"no\"\n",
       "    width=\"100%\"\n",
       "    height=\"545px\"\n",
       "    src=\"iframe_figures/figure_94.html\"\n",
       "    frameborder=\"0\"\n",
       "    allowfullscreen\n",
       "></iframe>\n"
      ]
     },
     "metadata": {},
     "output_type": "display_data"
    }
   ],
   "source": [
    "Protein_contrib = foodgroup_contrib_original[['Food group', 'Region', 'Protein']]\n",
    "# fig = go.Figure()\n",
    "\n",
    "stack_bar1 = px.bar(data_frame=foodgroup_contrib_original, x=\"Region\", y='Protein', color=\"Food group\", color_discrete_sequence = bar_color, text_auto=True)\n",
    "stack_bar1.show(renderer=\"iframe\")\n"
   ]
  },
  {
   "cell_type": "code",
   "execution_count": 60,
   "id": "d2fb5ca6",
   "metadata": {},
   "outputs": [],
   "source": [
    "stack_bar1.write_html(\"../website/global_pages/protein_contrib.html\")"
   ]
  },
  {
   "cell_type": "code",
   "execution_count": null,
   "id": "60a114bd-8705-4a9e-886c-12f89ee200d1",
   "metadata": {},
   "outputs": [],
   "source": []
  }
 ],
 "metadata": {
  "kernelspec": {
   "display_name": "Python 3 (ipykernel)",
   "language": "python",
   "name": "python3"
  },
  "language_info": {
   "codemirror_mode": {
    "name": "ipython",
    "version": 3
   },
   "file_extension": ".py",
   "mimetype": "text/x-python",
   "name": "python",
   "nbconvert_exporter": "python",
   "pygments_lexer": "ipython3",
   "version": "3.10.9"
  },
  "toc": {
   "base_numbering": 1,
   "nav_menu": {},
   "number_sections": true,
   "sideBar": true,
   "skip_h1_title": false,
   "title_cell": "Table of Contents",
   "title_sidebar": "Contents",
   "toc_cell": false,
   "toc_position": {},
   "toc_section_display": true,
   "toc_window_display": false
  }
 },
 "nbformat": 4,
 "nbformat_minor": 5
}
