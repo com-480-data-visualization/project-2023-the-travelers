{
 "cells": [
  {
   "cell_type": "code",
   "execution_count": 69,
   "id": "072e4053",
   "metadata": {},
   "outputs": [],
   "source": [
    "import os\n",
    "import pandas as pd\n",
    "import plotly.express as px\n",
    "import plotly.graph_objects as go\n",
    "import re"
   ]
  },
  {
   "cell_type": "code",
   "execution_count": 89,
   "id": "9d3858bc",
   "metadata": {},
   "outputs": [
    {
     "data": {
      "text/plain": [
       "34"
      ]
     },
     "execution_count": 89,
     "metadata": {},
     "output_type": "execute_result"
    }
   ],
   "source": [
    "colors0 = ['#F77979', '#AFDA41', '#CE6E51', '#EC8F2F', '#E2E23F', '#93C57E', '#13A691', '#8A72BD', '#E197E2', \n",
    "          '#E87F60', '#F7C940', '#8CC102', '#3D7F3F', '#086B4B', '#77EDF7', '#4D518E', '#C15DA1', '#AF6577',\n",
    "          '#C1735B', '#9E8615', '#8BC161', '#084E27', '#719FA8', '#807C9A', '#805390', '#D686C8', '#BF5376']\n",
    "colors = (px.colors.qualitative.Set3) + (px.colors.qualitative.Pastel1) + (px.colors.qualitative.Pastel)\n",
    "len(colors)"
   ]
  },
  {
   "cell_type": "code",
   "execution_count": 91,
   "id": "6637bb5e",
   "metadata": {},
   "outputs": [
    {
     "data": {
      "text/html": [
       "<iframe\n",
       "    scrolling=\"no\"\n",
       "    width=\"100%\"\n",
       "    height=\"545px\"\n",
       "    src=\"iframe_figures/figure_91.html\"\n",
       "    frameborder=\"0\"\n",
       "    allowfullscreen\n",
       "></iframe>\n"
      ]
     },
     "metadata": {},
     "output_type": "display_data"
    },
    {
     "data": {
      "text/html": [
       "<iframe\n",
       "    scrolling=\"no\"\n",
       "    width=\"100%\"\n",
       "    height=\"545px\"\n",
       "    src=\"iframe_figures/figure_91.html\"\n",
       "    frameborder=\"0\"\n",
       "    allowfullscreen\n",
       "></iframe>\n"
      ]
     },
     "metadata": {},
     "output_type": "display_data"
    },
    {
     "data": {
      "text/html": [
       "<iframe\n",
       "    scrolling=\"no\"\n",
       "    width=\"100%\"\n",
       "    height=\"545px\"\n",
       "    src=\"iframe_figures/figure_91.html\"\n",
       "    frameborder=\"0\"\n",
       "    allowfullscreen\n",
       "></iframe>\n"
      ]
     },
     "metadata": {},
     "output_type": "display_data"
    },
    {
     "data": {
      "text/html": [
       "<iframe\n",
       "    scrolling=\"no\"\n",
       "    width=\"100%\"\n",
       "    height=\"545px\"\n",
       "    src=\"iframe_figures/figure_91.html\"\n",
       "    frameborder=\"0\"\n",
       "    allowfullscreen\n",
       "></iframe>\n"
      ]
     },
     "metadata": {},
     "output_type": "display_data"
    },
    {
     "data": {
      "text/html": [
       "<iframe\n",
       "    scrolling=\"no\"\n",
       "    width=\"100%\"\n",
       "    height=\"545px\"\n",
       "    src=\"iframe_figures/figure_91.html\"\n",
       "    frameborder=\"0\"\n",
       "    allowfullscreen\n",
       "></iframe>\n"
      ]
     },
     "metadata": {},
     "output_type": "display_data"
    },
    {
     "data": {
      "text/html": [
       "<iframe\n",
       "    scrolling=\"no\"\n",
       "    width=\"100%\"\n",
       "    height=\"545px\"\n",
       "    src=\"iframe_figures/figure_91.html\"\n",
       "    frameborder=\"0\"\n",
       "    allowfullscreen\n",
       "></iframe>\n"
      ]
     },
     "metadata": {},
     "output_type": "display_data"
    },
    {
     "data": {
      "text/html": [
       "<iframe\n",
       "    scrolling=\"no\"\n",
       "    width=\"100%\"\n",
       "    height=\"545px\"\n",
       "    src=\"iframe_figures/figure_91.html\"\n",
       "    frameborder=\"0\"\n",
       "    allowfullscreen\n",
       "></iframe>\n"
      ]
     },
     "metadata": {},
     "output_type": "display_data"
    },
    {
     "data": {
      "text/html": [
       "<iframe\n",
       "    scrolling=\"no\"\n",
       "    width=\"100%\"\n",
       "    height=\"545px\"\n",
       "    src=\"iframe_figures/figure_91.html\"\n",
       "    frameborder=\"0\"\n",
       "    allowfullscreen\n",
       "></iframe>\n"
      ]
     },
     "metadata": {},
     "output_type": "display_data"
    },
    {
     "data": {
      "text/html": [
       "<iframe\n",
       "    scrolling=\"no\"\n",
       "    width=\"100%\"\n",
       "    height=\"545px\"\n",
       "    src=\"iframe_figures/figure_91.html\"\n",
       "    frameborder=\"0\"\n",
       "    allowfullscreen\n",
       "></iframe>\n"
      ]
     },
     "metadata": {},
     "output_type": "display_data"
    }
   ],
   "source": [
    "# construct the data\n",
    "data_path = \"../Data\"\n",
    "selected_food_map_per_c = {\"cereals\": [\"Cereals - Excluding Beer\"], \"meat\": [\"Meat\", \"Offals\", \"Animal fats\"], \"milk&eggs\": [\"Eggs\", \"Milk - Excluding Butter\"], \"aquatic food\":[\"Fish, Seafood\", \"Aquatic Products, Other\"], \n",
    "                            \"fruit&veg\": [\"Vegetables\", \"Fruits - Excluding Wine\"], \"oil\":[\"Oilcrops\", \"Vegetable Oils\"], \"nuts\": [\"Treenuts\"], \"beans\":[\"Pulses\"], \n",
    "                            \"roots\": [\"Starchy Roots\"], \"sugar\": [\"Sugar & Sweeteners\"], \"other\": [\"Stimulants\", \"Spices\", \"Alcoholic Beverages\"]}\n",
    "countries = [\"Swiss\", \"China\", \"India\", \"Thai\", \"UK\", \"Germany\", \"USA\", \"Italy\", \"SAfrica\"]\n",
    "for country in countries:\n",
    "    country_production = pd.read_excel(os.path.join(data_path, \"GlobalData/countryProdYears.xlsx\"), sheet_name = country)\n",
    "    unnecessary_cols = [col for col in country_production.columns if (col != 'Item' and col != 'Area') and not any(char.isdigit() for char in col)]\n",
    "    country_production = country_production.drop(columns=unnecessary_cols)\n",
    "    fooditem_list = []\n",
    "    year_cols = [col for col in country_production.columns if any(char.isdigit() for char in col)]\n",
    "    for food in selected_food_map_per_c.keys():\n",
    "        rows_to_add = country_production[country_production['Item'].isin(selected_food_map_per_c[food])]\n",
    "        new_df = rows_to_add.groupby(('Area'))[year_cols].sum().reset_index()\n",
    "        new_df[\"Item\"] = food\n",
    "        fooditem_list.append(new_df)\n",
    "\n",
    "    country_production = pd.concat(fooditem_list, ignore_index=True)\n",
    "    country_production = country_production.drop(columns=[\"Area\"])\n",
    "    country_production = country_production.melt(id_vars='Item', var_name='Year', value_name='Value')\n",
    "    country_production['Year'] = country_production['Year'].str.extract('(\\d+)', expand=False).astype(int)\n",
    "    \n",
    "    # construct the first chart\n",
    "    year = country_production['Year'].min()\n",
    "    df_filtered = country_production[country_production['Year'] == year]\n",
    "    pie_num = len(df_filtered['Item'].unique())\n",
    "    pie_color = colors[0:pie_num]\n",
    "    fig = go.Figure(data=[go.Pie(labels=df_filtered['Item'], values=df_filtered['Value'], marker=dict(colors=pie_color), textposition=\"inside\")])\n",
    "    fig.update_layout(title=\"Different food category production [1961-2013] in \" + country)\n",
    "\n",
    "    # create the slider\n",
    "    year_slider = go.layout.Slider(\n",
    "        active=0,\n",
    "        steps=[{'label': str(year), 'method': 'update', 'args': [{'values': [country_production[country_production['Year'] == year]['Value']], 'title': f\"food production ({year})\"}]} for year in country_production['Year'].unique()],\n",
    "        currentvalue={'prefix': 'Year: '},\n",
    "    )\n",
    "\n",
    "    # update the pie chart according to the slider\n",
    "    fig.update_layout(sliders=[year_slider])\n",
    "\n",
    "    fig.show(renderer=\"iframe\")\n",
    "    fig.write_html(\"../website/country_pages/\" + country + \"Prod.html\")\n"
   ]
  },
  {
   "cell_type": "code",
   "execution_count": null,
   "id": "f0cdcb43",
   "metadata": {},
   "outputs": [],
   "source": []
  },
  {
   "cell_type": "code",
   "execution_count": 51,
   "id": "dc2ac3e4-1bf6-4e37-8366-58e8dd56094c",
   "metadata": {},
   "outputs": [],
   "source": []
  },
  {
   "cell_type": "code",
   "execution_count": 72,
   "id": "ddc4a16a",
   "metadata": {},
   "outputs": [
    {
     "data": {
      "text/html": [
       "<div>\n",
       "<style scoped>\n",
       "    .dataframe tbody tr th:only-of-type {\n",
       "        vertical-align: middle;\n",
       "    }\n",
       "\n",
       "    .dataframe tbody tr th {\n",
       "        vertical-align: top;\n",
       "    }\n",
       "\n",
       "    .dataframe thead th {\n",
       "        text-align: right;\n",
       "    }\n",
       "</style>\n",
       "<table border=\"1\" class=\"dataframe\">\n",
       "  <thead>\n",
       "    <tr style=\"text-align: right;\">\n",
       "      <th></th>\n",
       "      <th>Region</th>\n",
       "      <th>Energy</th>\n",
       "      <th>Protein</th>\n",
       "      <th>Iron</th>\n",
       "      <th>Calcium</th>\n",
       "      <th>Vitamin B12</th>\n",
       "      <th>Folate</th>\n",
       "      <th>Vitamin E</th>\n",
       "      <th>Choline</th>\n",
       "      <th>Food group</th>\n",
       "    </tr>\n",
       "  </thead>\n",
       "  <tbody>\n",
       "    <tr>\n",
       "      <th>0</th>\n",
       "      <td>China</td>\n",
       "      <td>0.490248</td>\n",
       "      <td>0.341884</td>\n",
       "      <td>0.361084</td>\n",
       "      <td>0.083833</td>\n",
       "      <td>0.0</td>\n",
       "      <td>0.189607</td>\n",
       "      <td>0.206247</td>\n",
       "      <td>0.165830</td>\n",
       "      <td>cereals</td>\n",
       "    </tr>\n",
       "    <tr>\n",
       "      <th>1</th>\n",
       "      <td>East Asia &amp; Pacific</td>\n",
       "      <td>0.329435</td>\n",
       "      <td>0.401495</td>\n",
       "      <td>0.393697</td>\n",
       "      <td>0.124460</td>\n",
       "      <td>0.0</td>\n",
       "      <td>0.241784</td>\n",
       "      <td>0.063029</td>\n",
       "      <td>0.209859</td>\n",
       "      <td>cereals</td>\n",
       "    </tr>\n",
       "    <tr>\n",
       "      <th>2</th>\n",
       "      <td>Europe &amp; Central Asia</td>\n",
       "      <td>0.448411</td>\n",
       "      <td>0.417633</td>\n",
       "      <td>0.560702</td>\n",
       "      <td>0.091629</td>\n",
       "      <td>0.0</td>\n",
       "      <td>0.357855</td>\n",
       "      <td>0.154714</td>\n",
       "      <td>0.267914</td>\n",
       "      <td>cereals</td>\n",
       "    </tr>\n",
       "    <tr>\n",
       "      <th>3</th>\n",
       "      <td>High income</td>\n",
       "      <td>0.434355</td>\n",
       "      <td>0.339717</td>\n",
       "      <td>0.482498</td>\n",
       "      <td>0.066771</td>\n",
       "      <td>0.0</td>\n",
       "      <td>0.249864</td>\n",
       "      <td>0.242597</td>\n",
       "      <td>0.211144</td>\n",
       "      <td>cereals</td>\n",
       "    </tr>\n",
       "    <tr>\n",
       "      <th>4</th>\n",
       "      <td>India</td>\n",
       "      <td>0.610030</td>\n",
       "      <td>0.581884</td>\n",
       "      <td>0.586713</td>\n",
       "      <td>0.133449</td>\n",
       "      <td>0.0</td>\n",
       "      <td>0.293999</td>\n",
       "      <td>0.411259</td>\n",
       "      <td>0.384583</td>\n",
       "      <td>cereals</td>\n",
       "    </tr>\n",
       "  </tbody>\n",
       "</table>\n",
       "</div>"
      ],
      "text/plain": [
       "                  Region    Energy   Protein      Iron   Calcium  Vitamin B12  \\\n",
       "0                  China  0.490248  0.341884  0.361084  0.083833          0.0   \n",
       "1    East Asia & Pacific  0.329435  0.401495  0.393697  0.124460          0.0   \n",
       "2  Europe & Central Asia  0.448411  0.417633  0.560702  0.091629          0.0   \n",
       "3            High income  0.434355  0.339717  0.482498  0.066771          0.0   \n",
       "4                  India  0.610030  0.581884  0.586713  0.133449          0.0   \n",
       "\n",
       "     Folate  Vitamin E   Choline Food group  \n",
       "0  0.189607   0.206247  0.165830    cereals  \n",
       "1  0.241784   0.063029  0.209859    cereals  \n",
       "2  0.357855   0.154714  0.267914    cereals  \n",
       "3  0.249864   0.242597  0.211144    cereals  \n",
       "4  0.293999   0.411259  0.384583    cereals  "
      ]
     },
     "execution_count": 72,
     "metadata": {},
     "output_type": "execute_result"
    }
   ],
   "source": [
    "foodgroup_contrib_original = pd.read_excel(os.path.join(data_path, \"Global.xlsx\"), sheet_name = 'Table S2', skiprows = 1)\n",
    "selected_food_map = {\"cereals\": [\"cereals\"], \"meat\": [\"chicken\", \"pork\", \"ruminant_meat\"], \"milk&eggs\": [\"dairy\", \"eggs\"], \"aquatic food\":[\"fish\"], \n",
    "                    \"fruit&veg\": [\"fruits\", \"vegetables\", \"legumes\"], \"oil\":[\"oil\"], \"nuts\": [\"nuts\"], \"beans\":[\"soybeans\"], \n",
    "                    \"roots\": [\"roots\"], \"sugar\": [\"sugar\"], \"other\": [\"other\"]}\n",
    "\n",
    "foodgroup_contrib_list = []\n",
    "all_nutrients = [\"Energy\", \"Protein\", \"Iron\", \"Calcium\", \"Vitamin B12\", \"Folate\", \"Vitamin E\", \"Choline\"]\n",
    "for food in selected_food_map.keys():\n",
    "    rows_to_add = foodgroup_contrib_original[foodgroup_contrib_original['Food group'].isin(selected_food_map[food])]\n",
    "    new_df = rows_to_add.groupby(('Region'))[all_nutrients].sum().reset_index()\n",
    "    new_df[\"Food group\"] = food\n",
    "    foodgroup_contrib_list.append(new_df)\n",
    "\n",
    "foodgroup_contrib = pd.concat(foodgroup_contrib_list, ignore_index=True)\n",
    "foodgroup_contrib.head()"
   ]
  },
  {
   "cell_type": "code",
   "execution_count": 76,
   "id": "ab00bb08-56dd-4de4-ad7b-916d2f5f02ad",
   "metadata": {},
   "outputs": [
    {
     "data": {
      "text/html": [
       "<iframe\n",
       "    scrolling=\"no\"\n",
       "    width=\"100%\"\n",
       "    height=\"545px\"\n",
       "    src=\"iframe_figures/figure_76.html\"\n",
       "    frameborder=\"0\"\n",
       "    allowfullscreen\n",
       "></iframe>\n"
      ]
     },
     "metadata": {},
     "output_type": "display_data"
    },
    {
     "data": {
      "text/html": [
       "<iframe\n",
       "    scrolling=\"no\"\n",
       "    width=\"100%\"\n",
       "    height=\"545px\"\n",
       "    src=\"iframe_figures/figure_76.html\"\n",
       "    frameborder=\"0\"\n",
       "    allowfullscreen\n",
       "></iframe>\n"
      ]
     },
     "metadata": {},
     "output_type": "display_data"
    },
    {
     "data": {
      "text/html": [
       "<iframe\n",
       "    scrolling=\"no\"\n",
       "    width=\"100%\"\n",
       "    height=\"545px\"\n",
       "    src=\"iframe_figures/figure_76.html\"\n",
       "    frameborder=\"0\"\n",
       "    allowfullscreen\n",
       "></iframe>\n"
      ]
     },
     "metadata": {},
     "output_type": "display_data"
    },
    {
     "data": {
      "text/html": [
       "<iframe\n",
       "    scrolling=\"no\"\n",
       "    width=\"100%\"\n",
       "    height=\"545px\"\n",
       "    src=\"iframe_figures/figure_76.html\"\n",
       "    frameborder=\"0\"\n",
       "    allowfullscreen\n",
       "></iframe>\n"
      ]
     },
     "metadata": {},
     "output_type": "display_data"
    },
    {
     "data": {
      "text/html": [
       "<iframe\n",
       "    scrolling=\"no\"\n",
       "    width=\"100%\"\n",
       "    height=\"545px\"\n",
       "    src=\"iframe_figures/figure_76.html\"\n",
       "    frameborder=\"0\"\n",
       "    allowfullscreen\n",
       "></iframe>\n"
      ]
     },
     "metadata": {},
     "output_type": "display_data"
    },
    {
     "data": {
      "text/html": [
       "<iframe\n",
       "    scrolling=\"no\"\n",
       "    width=\"100%\"\n",
       "    height=\"545px\"\n",
       "    src=\"iframe_figures/figure_76.html\"\n",
       "    frameborder=\"0\"\n",
       "    allowfullscreen\n",
       "></iframe>\n"
      ]
     },
     "metadata": {},
     "output_type": "display_data"
    },
    {
     "data": {
      "text/html": [
       "<iframe\n",
       "    scrolling=\"no\"\n",
       "    width=\"100%\"\n",
       "    height=\"545px\"\n",
       "    src=\"iframe_figures/figure_76.html\"\n",
       "    frameborder=\"0\"\n",
       "    allowfullscreen\n",
       "></iframe>\n"
      ]
     },
     "metadata": {},
     "output_type": "display_data"
    },
    {
     "data": {
      "text/html": [
       "<iframe\n",
       "    scrolling=\"no\"\n",
       "    width=\"100%\"\n",
       "    height=\"545px\"\n",
       "    src=\"iframe_figures/figure_76.html\"\n",
       "    frameborder=\"0\"\n",
       "    allowfullscreen\n",
       "></iframe>\n"
      ]
     },
     "metadata": {},
     "output_type": "display_data"
    }
   ],
   "source": [
    "food_groups = foodgroup_contrib['Food group'].unique()\n",
    "regions = foodgroup_contrib['Region'].unique()\n",
    "# energy_contrib = foodgroup_contrib[['Food group', 'Region', 'Energy']]\n",
    "bar_color = colors[0:len(food_groups)]\n",
    "# fig = go.Figure()\n",
    "\n",
    "for nutrient in all_nutrients:\n",
    "    stack_bar = px.bar(data_frame=foodgroup_contrib, x=\"Region\", y=nutrient, color=\"Food group\", color_discrete_sequence = bar_color, text_auto=False)\n",
    "    stack_bar.show(renderer=\"iframe\")\n",
    "    stack_bar.write_html(\"../website/global_pages/\"+nutrient+\"_contrib.html\")"
   ]
  },
  {
   "cell_type": "code",
   "execution_count": 58,
   "id": "da4c86d0",
   "metadata": {},
   "outputs": [],
   "source": [
    "stack_bar.write_html(\"../website/global_pages/energy_contrib.html\")"
   ]
  },
  {
   "cell_type": "code",
   "execution_count": 59,
   "id": "56c5c157",
   "metadata": {},
   "outputs": [
    {
     "data": {
      "application/vnd.plotly.v1+json": {
       "config": {
        "plotlyServerURL": "https://plot.ly"
       },
       "data": [
        {
         "alignmentgroup": "True",
         "hovertemplate": "Food group=cereals<br>Region=%{x}<br>Protein=%{y}<extra></extra>",
         "legendgroup": "cereals",
         "marker": {
          "color": "rgb(251,180,174)",
          "pattern": {
           "shape": ""
          }
         },
         "name": "cereals",
         "offsetgroup": "cereals",
         "orientation": "v",
         "showlegend": true,
         "textposition": "auto",
         "type": "bar",
         "x": [
          "China",
          "East Asia & Pacific",
          "Europe & Central Asia",
          "High income",
          "India",
          "Latin America & Caribbean",
          "Low income",
          "Lower middle income",
          "Middle East & North Africa",
          "North America",
          "South Asia",
          "Sub-Saharan Africa",
          "Upper middle income"
         ],
         "xaxis": "x",
         "y": [
          0.341883642960963,
          0.40149524538704,
          0.417632514220031,
          0.339716760812499,
          0.581883930792414,
          0.20820509492241,
          0.484624621152626,
          0.458670176548754,
          0.453701595678372,
          0.332296951937934,
          0.635153065485746,
          0.414199541741937,
          0.326661371245926
         ],
         "yaxis": "y"
        },
        {
         "alignmentgroup": "True",
         "hovertemplate": "Food group=chicken<br>Region=%{x}<br>Protein=%{y}<extra></extra>",
         "legendgroup": "chicken",
         "marker": {
          "color": "rgb(179,205,227)",
          "pattern": {
           "shape": ""
          }
         },
         "name": "chicken",
         "offsetgroup": "chicken",
         "orientation": "v",
         "showlegend": true,
         "textposition": "auto",
         "type": "bar",
         "x": [
          "China",
          "East Asia & Pacific",
          "Europe & Central Asia",
          "High income",
          "India",
          "Latin America & Caribbean",
          "Low income",
          "Lower middle income",
          "Middle East & North Africa",
          "North America",
          "South Asia",
          "Sub-Saharan Africa",
          "Upper middle income"
         ],
         "xaxis": "x",
         "y": [
          0.0519734073433475,
          0.0768525952289456,
          0.0729537874665239,
          0.106691107808058,
          0.0137838218525533,
          0.120696763374199,
          0.0123560770463064,
          0.0408074912194773,
          0.106072649960419,
          0.119649347887321,
          0.020287233911631,
          0.0229793636806474,
          0.106502892152331
         ],
         "yaxis": "y"
        },
        {
         "alignmentgroup": "True",
         "hovertemplate": "Food group=dairy<br>Region=%{x}<br>Protein=%{y}<extra></extra>",
         "legendgroup": "dairy",
         "marker": {
          "color": "rgb(204,235,197)",
          "pattern": {
           "shape": ""
          }
         },
         "name": "dairy",
         "offsetgroup": "dairy",
         "orientation": "v",
         "showlegend": true,
         "textposition": "auto",
         "type": "bar",
         "x": [
          "China",
          "East Asia & Pacific",
          "Europe & Central Asia",
          "High income",
          "India",
          "Latin America & Caribbean",
          "Low income",
          "Lower middle income",
          "Middle East & North Africa",
          "North America",
          "South Asia",
          "Sub-Saharan Africa",
          "Upper middle income"
         ],
         "xaxis": "x",
         "y": [
          0.0239596721880069,
          0.0377064347919794,
          0.149768116207337,
          0.133047166047157,
          0.111202166278756,
          0.0716748113524585,
          0.056742836544137,
          0.0583456849009926,
          0.0904025639620026,
          0.0927063698301818,
          0.125753839580551,
          0.0470181696870985,
          0.0813071040865274
         ],
         "yaxis": "y"
        },
        {
         "alignmentgroup": "True",
         "hovertemplate": "Food group=eggs<br>Region=%{x}<br>Protein=%{y}<extra></extra>",
         "legendgroup": "eggs",
         "marker": {
          "color": "rgb(222,203,228)",
          "pattern": {
           "shape": ""
          }
         },
         "name": "eggs",
         "offsetgroup": "eggs",
         "orientation": "v",
         "showlegend": true,
         "textposition": "auto",
         "type": "bar",
         "x": [
          "China",
          "East Asia & Pacific",
          "Europe & Central Asia",
          "High income",
          "India",
          "Latin America & Caribbean",
          "Low income",
          "Lower middle income",
          "Middle East & North Africa",
          "North America",
          "South Asia",
          "Sub-Saharan Africa",
          "Upper middle income"
         ],
         "xaxis": "x",
         "y": [
          0.0546092718016617,
          0.0310671759741012,
          0.0265155249042691,
          0.0260742807394125,
          0.0104414409033279,
          0.022886231591212,
          0.00551636408649213,
          0.0154341522650819,
          0.0269695816035383,
          0.018085271433671,
          0.0102002034759269,
          0.00799659304391313,
          0.0263617085947974
         ],
         "yaxis": "y"
        },
        {
         "alignmentgroup": "True",
         "hovertemplate": "Food group=fish<br>Region=%{x}<br>Protein=%{y}<extra></extra>",
         "legendgroup": "fish",
         "marker": {
          "color": "rgb(254,217,166)",
          "pattern": {
           "shape": ""
          }
         },
         "name": "fish",
         "offsetgroup": "fish",
         "orientation": "v",
         "showlegend": true,
         "textposition": "auto",
         "type": "bar",
         "x": [
          "China",
          "East Asia & Pacific",
          "Europe & Central Asia",
          "High income",
          "India",
          "Latin America & Caribbean",
          "Low income",
          "Lower middle income",
          "Middle East & North Africa",
          "North America",
          "South Asia",
          "Sub-Saharan Africa",
          "Upper middle income"
         ],
         "xaxis": "x",
         "y": [
          0.129644050775025,
          0.200273657707682,
          0.045699289937294,
          0.0517701824619953,
          0.0422475185266049,
          0.0598419495970575,
          0.0366208000695918,
          0.122426818166638,
          0.0824811154875855,
          0.0212609966485639,
          0.071609381630983,
          0.0507177676930607,
          0.0621775151692572
         ],
         "yaxis": "y"
        },
        {
         "alignmentgroup": "True",
         "hovertemplate": "Food group=fruits<br>Region=%{x}<br>Protein=%{y}<extra></extra>",
         "legendgroup": "fruits",
         "marker": {
          "color": "rgb(255,255,204)",
          "pattern": {
           "shape": ""
          }
         },
         "name": "fruits",
         "offsetgroup": "fruits",
         "orientation": "v",
         "showlegend": true,
         "textposition": "auto",
         "type": "bar",
         "x": [
          "China",
          "East Asia & Pacific",
          "Europe & Central Asia",
          "High income",
          "India",
          "Latin America & Caribbean",
          "Low income",
          "Lower middle income",
          "Middle East & North Africa",
          "North America",
          "South Asia",
          "Sub-Saharan Africa",
          "Upper middle income"
         ],
         "xaxis": "x",
         "y": [
          0.0159571704417217,
          0.0172637511870003,
          0.0119817455427693,
          0.00994509197418885,
          0.0128900243678217,
          0.0265634165388817,
          0.0200506685194291,
          0.0185787508622182,
          0.0368220841510023,
          0.0047644722828664,
          0.00875729268484296,
          0.0232089443914733,
          0.0222809310820446
         ],
         "yaxis": "y"
        },
        {
         "alignmentgroup": "True",
         "hovertemplate": "Food group=legumes<br>Region=%{x}<br>Protein=%{y}<extra></extra>",
         "legendgroup": "legumes",
         "marker": {
          "color": "rgb(229,216,189)",
          "pattern": {
           "shape": ""
          }
         },
         "name": "legumes",
         "offsetgroup": "legumes",
         "orientation": "v",
         "showlegend": true,
         "textposition": "auto",
         "type": "bar",
         "x": [
          "China",
          "East Asia & Pacific",
          "Europe & Central Asia",
          "High income",
          "India",
          "Latin America & Caribbean",
          "Low income",
          "Lower middle income",
          "Middle East & North Africa",
          "North America",
          "South Asia",
          "Sub-Saharan Africa",
          "Upper middle income"
         ],
         "xaxis": "x",
         "y": [
          0.00779679887775783,
          0.0153425545812249,
          0.0127077519109328,
          0.0185269240743312,
          0.0781350191456576,
          0.0349039050945484,
          0.12139852538755,
          0.0378024752103337,
          0.0331171853446868,
          0.0288237656890623,
          0.0231864230904124,
          0.113276199076536,
          0.0264539831164188
         ],
         "yaxis": "y"
        },
        {
         "alignmentgroup": "True",
         "hovertemplate": "Food group=nuts<br>Region=%{x}<br>Protein=%{y}<extra></extra>",
         "legendgroup": "nuts",
         "marker": {
          "color": "rgb(253,218,236)",
          "pattern": {
           "shape": ""
          }
         },
         "name": "nuts",
         "offsetgroup": "nuts",
         "orientation": "v",
         "showlegend": true,
         "textposition": "auto",
         "type": "bar",
         "x": [
          "China",
          "East Asia & Pacific",
          "Europe & Central Asia",
          "High income",
          "India",
          "Latin America & Caribbean",
          "Low income",
          "Lower middle income",
          "Middle East & North Africa",
          "North America",
          "South Asia",
          "Sub-Saharan Africa",
          "Upper middle income"
         ],
         "xaxis": "x",
         "y": [
          0.00325523204938264,
          0.0301477405423883,
          0.00308347768125179,
          0.00408604686042032,
          0.00922371940800441,
          0.00445378005765527,
          0.00988332623209263,
          0.021632900144265,
          0.0107779314641306,
          0.0062410204877502,
          0.00497072016327051,
          0.0134642145306976,
          0.00650567252194325
         ],
         "yaxis": "y"
        },
        {
         "alignmentgroup": "True",
         "hovertemplate": "Food group=oil<br>Region=%{x}<br>Protein=%{y}<extra></extra>",
         "legendgroup": "oil",
         "marker": {
          "color": "rgb(242,242,242)",
          "pattern": {
           "shape": ""
          }
         },
         "name": "oil",
         "offsetgroup": "oil",
         "orientation": "v",
         "showlegend": true,
         "textposition": "auto",
         "type": "bar",
         "x": [
          "China",
          "East Asia & Pacific",
          "Europe & Central Asia",
          "High income",
          "India",
          "Latin America & Caribbean",
          "Low income",
          "Lower middle income",
          "Middle East & North Africa",
          "North America",
          "South Asia",
          "Sub-Saharan Africa",
          "Upper middle income"
         ],
         "xaxis": "x",
         "y": [
          0.0595076167029537,
          0.0259159495656898,
          0.0726322142834267,
          0.0204823601571983,
          0.0402916891292439,
          0.0223202015768953,
          0.0889935683380824,
          0.065648787569581,
          0.01456238026282,
          0.0186478903544887,
          0.0129046147162284,
          0.103871527264004,
          0.0424714211880023
         ],
         "yaxis": "y"
        },
        {
         "alignmentgroup": "True",
         "hovertemplate": "Food group=others<br>Region=%{x}<br>Protein=%{y}<extra></extra>",
         "legendgroup": "others",
         "marker": {
          "color": [
           "rgb(141,211,199)",
           "rgb(255,255,179)",
           "rgb(190,186,218)",
           "rgb(251,128,114)",
           "rgb(128,177,211)",
           "rgb(253,180,98)",
           "rgb(179,222,105)",
           "rgb(252,205,229)",
           "rgb(217,217,217)",
           "rgb(188,128,189)",
           "rgb(204,235,197)",
           "rgb(255,237,111)"
          ],
          "pattern": {
           "shape": ""
          }
         },
         "name": "others",
         "offsetgroup": "others",
         "orientation": "v",
         "showlegend": true,
         "textposition": "auto",
         "type": "bar",
         "x": [
          "China",
          "East Asia & Pacific",
          "Europe & Central Asia",
          "High income",
          "India",
          "Latin America & Caribbean",
          "Low income",
          "Lower middle income",
          "Middle East & North Africa",
          "North America",
          "South Asia",
          "Sub-Saharan Africa",
          "Upper middle income"
         ],
         "xaxis": "x",
         "y": [
          0.00661011216065657,
          0.0104674119818649,
          0.0042020711429697,
          0.00193355998793005,
          0.00817941902466282,
          0.00554938450882564,
          0.00694594933379159,
          0.0149424583092307,
          0.00555164636521185,
          0.000216690380327279,
          0.0034222760558377,
          0.0178432869015729,
          0.00483024031218456
         ],
         "yaxis": "y"
        },
        {
         "alignmentgroup": "True",
         "hovertemplate": "Food group=pork<br>Region=%{x}<br>Protein=%{y}<extra></extra>",
         "legendgroup": "pork",
         "marker": {
          "color": [
           "rgb(141,211,199)",
           "rgb(255,255,179)",
           "rgb(190,186,218)",
           "rgb(251,128,114)",
           "rgb(128,177,211)",
           "rgb(253,180,98)",
           "rgb(179,222,105)",
           "rgb(252,205,229)",
           "rgb(217,217,217)",
           "rgb(188,128,189)",
           "rgb(204,235,197)",
           "rgb(255,237,111)"
          ],
          "pattern": {
           "shape": ""
          }
         },
         "name": "pork",
         "offsetgroup": "pork",
         "orientation": "v",
         "showlegend": true,
         "textposition": "auto",
         "type": "bar",
         "x": [
          "China",
          "East Asia & Pacific",
          "Europe & Central Asia",
          "High income",
          "India",
          "Latin America & Caribbean",
          "Low income",
          "Lower middle income",
          "Middle East & North Africa",
          "North America",
          "South Asia",
          "Sub-Saharan Africa",
          "Upper middle income"
         ],
         "xaxis": "x",
         "y": [
          0.148538147337181,
          0.0592905261590825,
          0.0859617722600342,
          0.0885655698711379,
          0.00152008183814126,
          0.0319256515737544,
          0.00695099911844504,
          0.0259440944436006,
          0.000380737672381244,
          0.0591534987315445,
          0.00029346523716999,
          0.0083508749508417,
          0.0307162690723325
         ],
         "yaxis": "y"
        },
        {
         "alignmentgroup": "True",
         "hovertemplate": "Food group=roots<br>Region=%{x}<br>Protein=%{y}<extra></extra>",
         "legendgroup": "roots",
         "marker": {
          "color": "rgb(141,211,199)",
          "pattern": {
           "shape": ""
          }
         },
         "name": "roots",
         "offsetgroup": "roots",
         "orientation": "v",
         "showlegend": true,
         "textposition": "auto",
         "type": "bar",
         "x": [
          "China",
          "East Asia & Pacific",
          "Europe & Central Asia",
          "High income",
          "India",
          "Latin America & Caribbean",
          "Low income",
          "Lower middle income",
          "Middle East & North Africa",
          "North America",
          "South Asia",
          "Sub-Saharan Africa",
          "Upper middle income"
         ],
         "xaxis": "x",
         "y": [
          0.0228562314443073,
          0.0180256734708615,
          0.0230845162658583,
          0.014336220616003,
          0.0161513005317318,
          0.0127919617549747,
          0.0745179467664677,
          0.0391615254553048,
          0.0236695231817631,
          0.00882444338389343,
          0.019252325641848,
          0.0901923059404153,
          0.0173475028690747
         ],
         "yaxis": "y"
        },
        {
         "alignmentgroup": "True",
         "hovertemplate": "Food group=ruminant_meat<br>Region=%{x}<br>Protein=%{y}<extra></extra>",
         "legendgroup": "ruminant_meat",
         "marker": {
          "color": "rgb(255,255,179)",
          "pattern": {
           "shape": ""
          }
         },
         "name": "ruminant_meat",
         "offsetgroup": "ruminant_meat",
         "orientation": "v",
         "showlegend": true,
         "textposition": "auto",
         "type": "bar",
         "x": [
          "China",
          "East Asia & Pacific",
          "Europe & Central Asia",
          "High income",
          "India",
          "Latin America & Caribbean",
          "Low income",
          "Lower middle income",
          "Middle East & North Africa",
          "North America",
          "South Asia",
          "Sub-Saharan Africa",
          "Upper middle income"
         ],
         "xaxis": "x",
         "y": [
          0.0286616101424962,
          0.0430839873973361,
          0.0450862106975094,
          0.0626463198915061,
          0.0169681960583708,
          0.0781743618661862,
          0.0537744085843474,
          0.0454891997310254,
          0.0634677716493922,
          0.0619692198707872,
          0.0490394124618044,
          0.0623842477059344,
          0.0614699864738573
         ],
         "yaxis": "y"
        },
        {
         "alignmentgroup": "True",
         "hovertemplate": "Food group=soybeans<br>Region=%{x}<br>Protein=%{y}<extra></extra>",
         "legendgroup": "soybeans",
         "marker": {
          "color": "rgb(190,186,218)",
          "pattern": {
           "shape": ""
          }
         },
         "name": "soybeans",
         "offsetgroup": "soybeans",
         "orientation": "v",
         "showlegend": true,
         "textposition": "auto",
         "type": "bar",
         "x": [
          "China",
          "East Asia & Pacific",
          "Europe & Central Asia",
          "High income",
          "India",
          "Latin America & Caribbean",
          "Low income",
          "Lower middle income",
          "Middle East & North Africa",
          "North America",
          "South Asia",
          "Sub-Saharan Africa",
          "Upper middle income"
         ],
         "xaxis": "x",
         "y": [
          0.0151852769045882,
          0.00558781970065306,
          0.00678031055272897,
          0.105685596859969,
          0.0223866214584351,
          0.286719179560161,
          0.0028132984787803,
          0.00964207462694561,
          0.00108963687187856,
          0.217876191206673,
          0.000678007994139653,
          0.00546529019774604,
          0.165496566445213
         ],
         "yaxis": "y"
        },
        {
         "alignmentgroup": "True",
         "hovertemplate": "Food group=sugar<br>Region=%{x}<br>Protein=%{y}<extra></extra>",
         "legendgroup": "sugar",
         "marker": {
          "color": "rgb(251,128,114)",
          "pattern": {
           "shape": ""
          }
         },
         "name": "sugar",
         "offsetgroup": "sugar",
         "orientation": "v",
         "showlegend": true,
         "textposition": "auto",
         "type": "bar",
         "x": [
          "China",
          "East Asia & Pacific",
          "Europe & Central Asia",
          "High income",
          "India",
          "Latin America & Caribbean",
          "Low income",
          "Lower middle income",
          "Middle East & North Africa",
          "North America",
          "South Asia",
          "Sub-Saharan Africa",
          "Upper middle income"
         ],
         "xaxis": "x",
         "y": [
          0.000341923670656332,
          0.00115507793118023,
          0.000703787879379512,
          0.000546686240003725,
          0.00124614654560551,
          0.00231731958087734,
          0.000235811828491559,
          0.000744172885754611,
          0.000600942887463353,
          0.000303342235666222,
          0.000789158235366475,
          0.000432691531859242,
          0.00179285972107584
         ],
         "yaxis": "y"
        },
        {
         "alignmentgroup": "True",
         "hovertemplate": "Food group=vegetables<br>Region=%{x}<br>Protein=%{y}<extra></extra>",
         "legendgroup": "vegetables",
         "marker": {
          "color": "rgb(128,177,211)",
          "pattern": {
           "shape": ""
          }
         },
         "name": "vegetables",
         "offsetgroup": "vegetables",
         "orientation": "v",
         "showlegend": true,
         "textposition": "auto",
         "type": "bar",
         "x": [
          "China",
          "East Asia & Pacific",
          "Europe & Central Asia",
          "High income",
          "India",
          "Latin America & Caribbean",
          "Low income",
          "Lower middle income",
          "Middle East & North Africa",
          "North America",
          "South Asia",
          "Sub-Saharan Africa",
          "Upper middle income"
         ],
         "xaxis": "x",
         "y": [
          0.0892198351992939,
          0.0263243983929671,
          0.0212069090476811,
          0.0159461255981873,
          0.0334489041386664,
          0.0109759870498989,
          0.0185747985133674,
          0.0247292376607931,
          0.0503326534573512,
          0.00918052763926646,
          0.0137025796342395,
          0.018598981662262,
          0.0176239759490138
         ],
         "yaxis": "y"
        }
       ],
       "layout": {
        "autosize": true,
        "barmode": "relative",
        "legend": {
         "title": {
          "text": "Food group"
         },
         "tracegroupgap": 0
        },
        "margin": {
         "t": 60
        },
        "template": {
         "data": {
          "bar": [
           {
            "error_x": {
             "color": "#2a3f5f"
            },
            "error_y": {
             "color": "#2a3f5f"
            },
            "marker": {
             "line": {
              "color": "#E5ECF6",
              "width": 0.5
             },
             "pattern": {
              "fillmode": "overlay",
              "size": 10,
              "solidity": 0.2
             }
            },
            "type": "bar"
           }
          ],
          "barpolar": [
           {
            "marker": {
             "line": {
              "color": "#E5ECF6",
              "width": 0.5
             },
             "pattern": {
              "fillmode": "overlay",
              "size": 10,
              "solidity": 0.2
             }
            },
            "type": "barpolar"
           }
          ],
          "carpet": [
           {
            "aaxis": {
             "endlinecolor": "#2a3f5f",
             "gridcolor": "white",
             "linecolor": "white",
             "minorgridcolor": "white",
             "startlinecolor": "#2a3f5f"
            },
            "baxis": {
             "endlinecolor": "#2a3f5f",
             "gridcolor": "white",
             "linecolor": "white",
             "minorgridcolor": "white",
             "startlinecolor": "#2a3f5f"
            },
            "type": "carpet"
           }
          ],
          "choropleth": [
           {
            "colorbar": {
             "outlinewidth": 0,
             "ticks": ""
            },
            "type": "choropleth"
           }
          ],
          "contour": [
           {
            "colorbar": {
             "outlinewidth": 0,
             "ticks": ""
            },
            "colorscale": [
             [
              0,
              "#0d0887"
             ],
             [
              0.1111111111111111,
              "#46039f"
             ],
             [
              0.2222222222222222,
              "#7201a8"
             ],
             [
              0.3333333333333333,
              "#9c179e"
             ],
             [
              0.4444444444444444,
              "#bd3786"
             ],
             [
              0.5555555555555556,
              "#d8576b"
             ],
             [
              0.6666666666666666,
              "#ed7953"
             ],
             [
              0.7777777777777778,
              "#fb9f3a"
             ],
             [
              0.8888888888888888,
              "#fdca26"
             ],
             [
              1,
              "#f0f921"
             ]
            ],
            "type": "contour"
           }
          ],
          "contourcarpet": [
           {
            "colorbar": {
             "outlinewidth": 0,
             "ticks": ""
            },
            "type": "contourcarpet"
           }
          ],
          "heatmap": [
           {
            "colorbar": {
             "outlinewidth": 0,
             "ticks": ""
            },
            "colorscale": [
             [
              0,
              "#0d0887"
             ],
             [
              0.1111111111111111,
              "#46039f"
             ],
             [
              0.2222222222222222,
              "#7201a8"
             ],
             [
              0.3333333333333333,
              "#9c179e"
             ],
             [
              0.4444444444444444,
              "#bd3786"
             ],
             [
              0.5555555555555556,
              "#d8576b"
             ],
             [
              0.6666666666666666,
              "#ed7953"
             ],
             [
              0.7777777777777778,
              "#fb9f3a"
             ],
             [
              0.8888888888888888,
              "#fdca26"
             ],
             [
              1,
              "#f0f921"
             ]
            ],
            "type": "heatmap"
           }
          ],
          "heatmapgl": [
           {
            "colorbar": {
             "outlinewidth": 0,
             "ticks": ""
            },
            "colorscale": [
             [
              0,
              "#0d0887"
             ],
             [
              0.1111111111111111,
              "#46039f"
             ],
             [
              0.2222222222222222,
              "#7201a8"
             ],
             [
              0.3333333333333333,
              "#9c179e"
             ],
             [
              0.4444444444444444,
              "#bd3786"
             ],
             [
              0.5555555555555556,
              "#d8576b"
             ],
             [
              0.6666666666666666,
              "#ed7953"
             ],
             [
              0.7777777777777778,
              "#fb9f3a"
             ],
             [
              0.8888888888888888,
              "#fdca26"
             ],
             [
              1,
              "#f0f921"
             ]
            ],
            "type": "heatmapgl"
           }
          ],
          "histogram": [
           {
            "marker": {
             "pattern": {
              "fillmode": "overlay",
              "size": 10,
              "solidity": 0.2
             }
            },
            "type": "histogram"
           }
          ],
          "histogram2d": [
           {
            "colorbar": {
             "outlinewidth": 0,
             "ticks": ""
            },
            "colorscale": [
             [
              0,
              "#0d0887"
             ],
             [
              0.1111111111111111,
              "#46039f"
             ],
             [
              0.2222222222222222,
              "#7201a8"
             ],
             [
              0.3333333333333333,
              "#9c179e"
             ],
             [
              0.4444444444444444,
              "#bd3786"
             ],
             [
              0.5555555555555556,
              "#d8576b"
             ],
             [
              0.6666666666666666,
              "#ed7953"
             ],
             [
              0.7777777777777778,
              "#fb9f3a"
             ],
             [
              0.8888888888888888,
              "#fdca26"
             ],
             [
              1,
              "#f0f921"
             ]
            ],
            "type": "histogram2d"
           }
          ],
          "histogram2dcontour": [
           {
            "colorbar": {
             "outlinewidth": 0,
             "ticks": ""
            },
            "colorscale": [
             [
              0,
              "#0d0887"
             ],
             [
              0.1111111111111111,
              "#46039f"
             ],
             [
              0.2222222222222222,
              "#7201a8"
             ],
             [
              0.3333333333333333,
              "#9c179e"
             ],
             [
              0.4444444444444444,
              "#bd3786"
             ],
             [
              0.5555555555555556,
              "#d8576b"
             ],
             [
              0.6666666666666666,
              "#ed7953"
             ],
             [
              0.7777777777777778,
              "#fb9f3a"
             ],
             [
              0.8888888888888888,
              "#fdca26"
             ],
             [
              1,
              "#f0f921"
             ]
            ],
            "type": "histogram2dcontour"
           }
          ],
          "mesh3d": [
           {
            "colorbar": {
             "outlinewidth": 0,
             "ticks": ""
            },
            "type": "mesh3d"
           }
          ],
          "parcoords": [
           {
            "line": {
             "colorbar": {
              "outlinewidth": 0,
              "ticks": ""
             }
            },
            "type": "parcoords"
           }
          ],
          "pie": [
           {
            "automargin": true,
            "type": "pie"
           }
          ],
          "scatter": [
           {
            "fillpattern": {
             "fillmode": "overlay",
             "size": 10,
             "solidity": 0.2
            },
            "type": "scatter"
           }
          ],
          "scatter3d": [
           {
            "line": {
             "colorbar": {
              "outlinewidth": 0,
              "ticks": ""
             }
            },
            "marker": {
             "colorbar": {
              "outlinewidth": 0,
              "ticks": ""
             }
            },
            "type": "scatter3d"
           }
          ],
          "scattercarpet": [
           {
            "marker": {
             "colorbar": {
              "outlinewidth": 0,
              "ticks": ""
             }
            },
            "type": "scattercarpet"
           }
          ],
          "scattergeo": [
           {
            "marker": {
             "colorbar": {
              "outlinewidth": 0,
              "ticks": ""
             }
            },
            "type": "scattergeo"
           }
          ],
          "scattergl": [
           {
            "marker": {
             "colorbar": {
              "outlinewidth": 0,
              "ticks": ""
             }
            },
            "type": "scattergl"
           }
          ],
          "scattermapbox": [
           {
            "marker": {
             "colorbar": {
              "outlinewidth": 0,
              "ticks": ""
             }
            },
            "type": "scattermapbox"
           }
          ],
          "scatterpolar": [
           {
            "marker": {
             "colorbar": {
              "outlinewidth": 0,
              "ticks": ""
             }
            },
            "type": "scatterpolar"
           }
          ],
          "scatterpolargl": [
           {
            "marker": {
             "colorbar": {
              "outlinewidth": 0,
              "ticks": ""
             }
            },
            "type": "scatterpolargl"
           }
          ],
          "scatterternary": [
           {
            "marker": {
             "colorbar": {
              "outlinewidth": 0,
              "ticks": ""
             }
            },
            "type": "scatterternary"
           }
          ],
          "surface": [
           {
            "colorbar": {
             "outlinewidth": 0,
             "ticks": ""
            },
            "colorscale": [
             [
              0,
              "#0d0887"
             ],
             [
              0.1111111111111111,
              "#46039f"
             ],
             [
              0.2222222222222222,
              "#7201a8"
             ],
             [
              0.3333333333333333,
              "#9c179e"
             ],
             [
              0.4444444444444444,
              "#bd3786"
             ],
             [
              0.5555555555555556,
              "#d8576b"
             ],
             [
              0.6666666666666666,
              "#ed7953"
             ],
             [
              0.7777777777777778,
              "#fb9f3a"
             ],
             [
              0.8888888888888888,
              "#fdca26"
             ],
             [
              1,
              "#f0f921"
             ]
            ],
            "type": "surface"
           }
          ],
          "table": [
           {
            "cells": {
             "fill": {
              "color": "#EBF0F8"
             },
             "line": {
              "color": "white"
             }
            },
            "header": {
             "fill": {
              "color": "#C8D4E3"
             },
             "line": {
              "color": "white"
             }
            },
            "type": "table"
           }
          ]
         },
         "layout": {
          "annotationdefaults": {
           "arrowcolor": "#2a3f5f",
           "arrowhead": 0,
           "arrowwidth": 1
          },
          "autotypenumbers": "strict",
          "coloraxis": {
           "colorbar": {
            "outlinewidth": 0,
            "ticks": ""
           }
          },
          "colorscale": {
           "diverging": [
            [
             0,
             "#8e0152"
            ],
            [
             0.1,
             "#c51b7d"
            ],
            [
             0.2,
             "#de77ae"
            ],
            [
             0.3,
             "#f1b6da"
            ],
            [
             0.4,
             "#fde0ef"
            ],
            [
             0.5,
             "#f7f7f7"
            ],
            [
             0.6,
             "#e6f5d0"
            ],
            [
             0.7,
             "#b8e186"
            ],
            [
             0.8,
             "#7fbc41"
            ],
            [
             0.9,
             "#4d9221"
            ],
            [
             1,
             "#276419"
            ]
           ],
           "sequential": [
            [
             0,
             "#0d0887"
            ],
            [
             0.1111111111111111,
             "#46039f"
            ],
            [
             0.2222222222222222,
             "#7201a8"
            ],
            [
             0.3333333333333333,
             "#9c179e"
            ],
            [
             0.4444444444444444,
             "#bd3786"
            ],
            [
             0.5555555555555556,
             "#d8576b"
            ],
            [
             0.6666666666666666,
             "#ed7953"
            ],
            [
             0.7777777777777778,
             "#fb9f3a"
            ],
            [
             0.8888888888888888,
             "#fdca26"
            ],
            [
             1,
             "#f0f921"
            ]
           ],
           "sequentialminus": [
            [
             0,
             "#0d0887"
            ],
            [
             0.1111111111111111,
             "#46039f"
            ],
            [
             0.2222222222222222,
             "#7201a8"
            ],
            [
             0.3333333333333333,
             "#9c179e"
            ],
            [
             0.4444444444444444,
             "#bd3786"
            ],
            [
             0.5555555555555556,
             "#d8576b"
            ],
            [
             0.6666666666666666,
             "#ed7953"
            ],
            [
             0.7777777777777778,
             "#fb9f3a"
            ],
            [
             0.8888888888888888,
             "#fdca26"
            ],
            [
             1,
             "#f0f921"
            ]
           ]
          },
          "colorway": [
           "#636efa",
           "#EF553B",
           "#00cc96",
           "#ab63fa",
           "#FFA15A",
           "#19d3f3",
           "#FF6692",
           "#B6E880",
           "#FF97FF",
           "#FECB52"
          ],
          "font": {
           "color": "#2a3f5f"
          },
          "geo": {
           "bgcolor": "white",
           "lakecolor": "white",
           "landcolor": "#E5ECF6",
           "showlakes": true,
           "showland": true,
           "subunitcolor": "white"
          },
          "hoverlabel": {
           "align": "left"
          },
          "hovermode": "closest",
          "mapbox": {
           "style": "light"
          },
          "paper_bgcolor": "white",
          "plot_bgcolor": "#E5ECF6",
          "polar": {
           "angularaxis": {
            "gridcolor": "white",
            "linecolor": "white",
            "ticks": ""
           },
           "bgcolor": "#E5ECF6",
           "radialaxis": {
            "gridcolor": "white",
            "linecolor": "white",
            "ticks": ""
           }
          },
          "scene": {
           "xaxis": {
            "backgroundcolor": "#E5ECF6",
            "gridcolor": "white",
            "gridwidth": 2,
            "linecolor": "white",
            "showbackground": true,
            "ticks": "",
            "zerolinecolor": "white"
           },
           "yaxis": {
            "backgroundcolor": "#E5ECF6",
            "gridcolor": "white",
            "gridwidth": 2,
            "linecolor": "white",
            "showbackground": true,
            "ticks": "",
            "zerolinecolor": "white"
           },
           "zaxis": {
            "backgroundcolor": "#E5ECF6",
            "gridcolor": "white",
            "gridwidth": 2,
            "linecolor": "white",
            "showbackground": true,
            "ticks": "",
            "zerolinecolor": "white"
           }
          },
          "shapedefaults": {
           "line": {
            "color": "#2a3f5f"
           }
          },
          "ternary": {
           "aaxis": {
            "gridcolor": "white",
            "linecolor": "white",
            "ticks": ""
           },
           "baxis": {
            "gridcolor": "white",
            "linecolor": "white",
            "ticks": ""
           },
           "bgcolor": "#E5ECF6",
           "caxis": {
            "gridcolor": "white",
            "linecolor": "white",
            "ticks": ""
           }
          },
          "title": {
           "x": 0.05
          },
          "xaxis": {
           "automargin": true,
           "gridcolor": "white",
           "linecolor": "white",
           "ticks": "",
           "title": {
            "standoff": 15
           },
           "zerolinecolor": "white",
           "zerolinewidth": 2
          },
          "yaxis": {
           "automargin": true,
           "gridcolor": "white",
           "linecolor": "white",
           "ticks": "",
           "title": {
            "standoff": 15
           },
           "zerolinecolor": "white",
           "zerolinewidth": 2
          }
         }
        },
        "xaxis": {
         "anchor": "y",
         "autorange": true,
         "domain": [
          0,
          1
         ],
         "range": [
          -0.5,
          12.5
         ],
         "title": {
          "text": "Region"
         },
         "type": "category"
        },
        "yaxis": {
         "anchor": "x",
         "autorange": true,
         "domain": [
          0,
          1
         ],
         "range": [
          0,
          1.052631578947368
         ],
         "title": {
          "text": "Protein"
         },
         "type": "linear"
        }
       }
      },
      "image/png": "[encoded data removed]",
      "text/html": [
       "<div>                            <div id=\"d1ff0f88-c460-4f88-9369-4cf3db6429f4\" class=\"plotly-graph-div\" style=\"height:525px; width:100%;\"></div>            <script type=\"text/javascript\">                require([\"plotly\"], function(Plotly) {                    window.PLOTLYENV=window.PLOTLYENV || {};                                    if (document.getElementById(\"d1ff0f88-c460-4f88-9369-4cf3db6429f4\")) {                    Plotly.newPlot(                        \"d1ff0f88-c460-4f88-9369-4cf3db6429f4\",                        [{\"alignmentgroup\":\"True\",\"hovertemplate\":\"Food group=cereals<br>Region=%{x}<br>Protein=%{y}<extra></extra>\",\"legendgroup\":\"cereals\",\"marker\":{\"color\":\"rgb(251,180,174)\",\"pattern\":{\"shape\":\"\"}},\"name\":\"cereals\",\"offsetgroup\":\"cereals\",\"orientation\":\"v\",\"showlegend\":true,\"textposition\":\"auto\",\"x\":[\"China\",\"East Asia & Pacific\",\"Europe & Central Asia\",\"High income\",\"India\",\"Latin America & Caribbean\",\"Low income\",\"Lower middle income\",\"Middle East & North Africa\",\"North America\",\"South Asia\",\"Sub-Saharan Africa\",\"Upper middle income\"],\"xaxis\":\"x\",\"y\":[0.341883642960963,0.40149524538704,0.417632514220031,0.339716760812499,0.581883930792414,0.20820509492241,0.484624621152626,0.458670176548754,0.453701595678372,0.332296951937934,0.635153065485746,0.414199541741937,0.326661371245926],\"yaxis\":\"y\",\"type\":\"bar\"},{\"alignmentgroup\":\"True\",\"hovertemplate\":\"Food group=chicken<br>Region=%{x}<br>Protein=%{y}<extra></extra>\",\"legendgroup\":\"chicken\",\"marker\":{\"color\":\"rgb(179,205,227)\",\"pattern\":{\"shape\":\"\"}},\"name\":\"chicken\",\"offsetgroup\":\"chicken\",\"orientation\":\"v\",\"showlegend\":true,\"textposition\":\"auto\",\"x\":[\"China\",\"East Asia & Pacific\",\"Europe & Central Asia\",\"High income\",\"India\",\"Latin America & Caribbean\",\"Low income\",\"Lower middle income\",\"Middle East & North Africa\",\"North America\",\"South Asia\",\"Sub-Saharan Africa\",\"Upper middle income\"],\"xaxis\":\"x\",\"y\":[0.0519734073433475,0.0768525952289456,0.0729537874665239,0.106691107808058,0.0137838218525533,0.120696763374199,0.0123560770463064,0.0408074912194773,0.106072649960419,0.119649347887321,0.020287233911631,0.0229793636806474,0.106502892152331],\"yaxis\":\"y\",\"type\":\"bar\"},{\"alignmentgroup\":\"True\",\"hovertemplate\":\"Food group=dairy<br>Region=%{x}<br>Protein=%{y}<extra></extra>\",\"legendgroup\":\"dairy\",\"marker\":{\"color\":\"rgb(204,235,197)\",\"pattern\":{\"shape\":\"\"}},\"name\":\"dairy\",\"offsetgroup\":\"dairy\",\"orientation\":\"v\",\"showlegend\":true,\"textposition\":\"auto\",\"x\":[\"China\",\"East Asia & Pacific\",\"Europe & Central Asia\",\"High income\",\"India\",\"Latin America & Caribbean\",\"Low income\",\"Lower middle income\",\"Middle East & North Africa\",\"North America\",\"South Asia\",\"Sub-Saharan Africa\",\"Upper middle income\"],\"xaxis\":\"x\",\"y\":[0.0239596721880069,0.0377064347919794,0.149768116207337,0.133047166047157,0.111202166278756,0.0716748113524585,0.056742836544137,0.0583456849009926,0.0904025639620026,0.0927063698301818,0.125753839580551,0.0470181696870985,0.0813071040865274],\"yaxis\":\"y\",\"type\":\"bar\"},{\"alignmentgroup\":\"True\",\"hovertemplate\":\"Food group=eggs<br>Region=%{x}<br>Protein=%{y}<extra></extra>\",\"legendgroup\":\"eggs\",\"marker\":{\"color\":\"rgb(222,203,228)\",\"pattern\":{\"shape\":\"\"}},\"name\":\"eggs\",\"offsetgroup\":\"eggs\",\"orientation\":\"v\",\"showlegend\":true,\"textposition\":\"auto\",\"x\":[\"China\",\"East Asia & Pacific\",\"Europe & Central Asia\",\"High income\",\"India\",\"Latin America & Caribbean\",\"Low income\",\"Lower middle income\",\"Middle East & North Africa\",\"North America\",\"South Asia\",\"Sub-Saharan Africa\",\"Upper middle income\"],\"xaxis\":\"x\",\"y\":[0.0546092718016617,0.0310671759741012,0.0265155249042691,0.0260742807394125,0.0104414409033279,0.022886231591212,0.00551636408649213,0.0154341522650819,0.0269695816035383,0.018085271433671,0.0102002034759269,0.00799659304391313,0.0263617085947974],\"yaxis\":\"y\",\"type\":\"bar\"},{\"alignmentgroup\":\"True\",\"hovertemplate\":\"Food group=fish<br>Region=%{x}<br>Protein=%{y}<extra></extra>\",\"legendgroup\":\"fish\",\"marker\":{\"color\":\"rgb(254,217,166)\",\"pattern\":{\"shape\":\"\"}},\"name\":\"fish\",\"offsetgroup\":\"fish\",\"orientation\":\"v\",\"showlegend\":true,\"textposition\":\"auto\",\"x\":[\"China\",\"East Asia & Pacific\",\"Europe & Central Asia\",\"High income\",\"India\",\"Latin America & Caribbean\",\"Low income\",\"Lower middle income\",\"Middle East & North Africa\",\"North America\",\"South Asia\",\"Sub-Saharan Africa\",\"Upper middle income\"],\"xaxis\":\"x\",\"y\":[0.129644050775025,0.200273657707682,0.045699289937294,0.0517701824619953,0.0422475185266049,0.0598419495970575,0.0366208000695918,0.122426818166638,0.0824811154875855,0.0212609966485639,0.071609381630983,0.0507177676930607,0.0621775151692572],\"yaxis\":\"y\",\"type\":\"bar\"},{\"alignmentgroup\":\"True\",\"hovertemplate\":\"Food group=fruits<br>Region=%{x}<br>Protein=%{y}<extra></extra>\",\"legendgroup\":\"fruits\",\"marker\":{\"color\":\"rgb(255,255,204)\",\"pattern\":{\"shape\":\"\"}},\"name\":\"fruits\",\"offsetgroup\":\"fruits\",\"orientation\":\"v\",\"showlegend\":true,\"textposition\":\"auto\",\"x\":[\"China\",\"East Asia & Pacific\",\"Europe & Central Asia\",\"High income\",\"India\",\"Latin America & Caribbean\",\"Low income\",\"Lower middle income\",\"Middle East & North Africa\",\"North America\",\"South Asia\",\"Sub-Saharan Africa\",\"Upper middle income\"],\"xaxis\":\"x\",\"y\":[0.0159571704417217,0.0172637511870003,0.0119817455427693,0.00994509197418885,0.0128900243678217,0.0265634165388817,0.0200506685194291,0.0185787508622182,0.0368220841510023,0.0047644722828664,0.00875729268484296,0.0232089443914733,0.0222809310820446],\"yaxis\":\"y\",\"type\":\"bar\"},{\"alignmentgroup\":\"True\",\"hovertemplate\":\"Food group=legumes<br>Region=%{x}<br>Protein=%{y}<extra></extra>\",\"legendgroup\":\"legumes\",\"marker\":{\"color\":\"rgb(229,216,189)\",\"pattern\":{\"shape\":\"\"}},\"name\":\"legumes\",\"offsetgroup\":\"legumes\",\"orientation\":\"v\",\"showlegend\":true,\"textposition\":\"auto\",\"x\":[\"China\",\"East Asia & Pacific\",\"Europe & Central Asia\",\"High income\",\"India\",\"Latin America & Caribbean\",\"Low income\",\"Lower middle income\",\"Middle East & North Africa\",\"North America\",\"South Asia\",\"Sub-Saharan Africa\",\"Upper middle income\"],\"xaxis\":\"x\",\"y\":[0.00779679887775783,0.0153425545812249,0.0127077519109328,0.0185269240743312,0.0781350191456576,0.0349039050945484,0.12139852538755,0.0378024752103337,0.0331171853446868,0.0288237656890623,0.0231864230904124,0.113276199076536,0.0264539831164188],\"yaxis\":\"y\",\"type\":\"bar\"},{\"alignmentgroup\":\"True\",\"hovertemplate\":\"Food group=nuts<br>Region=%{x}<br>Protein=%{y}<extra></extra>\",\"legendgroup\":\"nuts\",\"marker\":{\"color\":\"rgb(253,218,236)\",\"pattern\":{\"shape\":\"\"}},\"name\":\"nuts\",\"offsetgroup\":\"nuts\",\"orientation\":\"v\",\"showlegend\":true,\"textposition\":\"auto\",\"x\":[\"China\",\"East Asia & Pacific\",\"Europe & Central Asia\",\"High income\",\"India\",\"Latin America & Caribbean\",\"Low income\",\"Lower middle income\",\"Middle East & North Africa\",\"North America\",\"South Asia\",\"Sub-Saharan Africa\",\"Upper middle income\"],\"xaxis\":\"x\",\"y\":[0.00325523204938264,0.0301477405423883,0.00308347768125179,0.00408604686042032,0.00922371940800441,0.00445378005765527,0.00988332623209263,0.021632900144265,0.0107779314641306,0.0062410204877502,0.00497072016327051,0.0134642145306976,0.00650567252194325],\"yaxis\":\"y\",\"type\":\"bar\"},{\"alignmentgroup\":\"True\",\"hovertemplate\":\"Food group=oil<br>Region=%{x}<br>Protein=%{y}<extra></extra>\",\"legendgroup\":\"oil\",\"marker\":{\"color\":\"rgb(242,242,242)\",\"pattern\":{\"shape\":\"\"}},\"name\":\"oil\",\"offsetgroup\":\"oil\",\"orientation\":\"v\",\"showlegend\":true,\"textposition\":\"auto\",\"x\":[\"China\",\"East Asia & Pacific\",\"Europe & Central Asia\",\"High income\",\"India\",\"Latin America & Caribbean\",\"Low income\",\"Lower middle income\",\"Middle East & North Africa\",\"North America\",\"South Asia\",\"Sub-Saharan Africa\",\"Upper middle income\"],\"xaxis\":\"x\",\"y\":[0.0595076167029537,0.0259159495656898,0.0726322142834267,0.0204823601571983,0.0402916891292439,0.0223202015768953,0.0889935683380824,0.065648787569581,0.01456238026282,0.0186478903544887,0.0129046147162284,0.103871527264004,0.0424714211880023],\"yaxis\":\"y\",\"type\":\"bar\"},{\"alignmentgroup\":\"True\",\"hovertemplate\":\"Food group=others<br>Region=%{x}<br>Protein=%{y}<extra></extra>\",\"legendgroup\":\"others\",\"marker\":{\"color\":[\"rgb(141,211,199)\",\"rgb(255,255,179)\",\"rgb(190,186,218)\",\"rgb(251,128,114)\",\"rgb(128,177,211)\",\"rgb(253,180,98)\",\"rgb(179,222,105)\",\"rgb(252,205,229)\",\"rgb(217,217,217)\",\"rgb(188,128,189)\",\"rgb(204,235,197)\",\"rgb(255,237,111)\"],\"pattern\":{\"shape\":\"\"}},\"name\":\"others\",\"offsetgroup\":\"others\",\"orientation\":\"v\",\"showlegend\":true,\"textposition\":\"auto\",\"x\":[\"China\",\"East Asia & Pacific\",\"Europe & Central Asia\",\"High income\",\"India\",\"Latin America & Caribbean\",\"Low income\",\"Lower middle income\",\"Middle East & North Africa\",\"North America\",\"South Asia\",\"Sub-Saharan Africa\",\"Upper middle income\"],\"xaxis\":\"x\",\"y\":[0.00661011216065657,0.0104674119818649,0.0042020711429697,0.00193355998793005,0.00817941902466282,0.00554938450882564,0.00694594933379159,0.0149424583092307,0.00555164636521185,0.000216690380327279,0.0034222760558377,0.0178432869015729,0.00483024031218456],\"yaxis\":\"y\",\"type\":\"bar\"},{\"alignmentgroup\":\"True\",\"hovertemplate\":\"Food group=pork<br>Region=%{x}<br>Protein=%{y}<extra></extra>\",\"legendgroup\":\"pork\",\"marker\":{\"color\":[\"rgb(141,211,199)\",\"rgb(255,255,179)\",\"rgb(190,186,218)\",\"rgb(251,128,114)\",\"rgb(128,177,211)\",\"rgb(253,180,98)\",\"rgb(179,222,105)\",\"rgb(252,205,229)\",\"rgb(217,217,217)\",\"rgb(188,128,189)\",\"rgb(204,235,197)\",\"rgb(255,237,111)\"],\"pattern\":{\"shape\":\"\"}},\"name\":\"pork\",\"offsetgroup\":\"pork\",\"orientation\":\"v\",\"showlegend\":true,\"textposition\":\"auto\",\"x\":[\"China\",\"East Asia & Pacific\",\"Europe & Central Asia\",\"High income\",\"India\",\"Latin America & Caribbean\",\"Low income\",\"Lower middle income\",\"Middle East & North Africa\",\"North America\",\"South Asia\",\"Sub-Saharan Africa\",\"Upper middle income\"],\"xaxis\":\"x\",\"y\":[0.148538147337181,0.0592905261590825,0.0859617722600342,0.0885655698711379,0.00152008183814126,0.0319256515737544,0.00695099911844504,0.0259440944436006,0.000380737672381244,0.0591534987315445,0.00029346523716999,0.0083508749508417,0.0307162690723325],\"yaxis\":\"y\",\"type\":\"bar\"},{\"alignmentgroup\":\"True\",\"hovertemplate\":\"Food group=roots<br>Region=%{x}<br>Protein=%{y}<extra></extra>\",\"legendgroup\":\"roots\",\"marker\":{\"color\":\"rgb(141,211,199)\",\"pattern\":{\"shape\":\"\"}},\"name\":\"roots\",\"offsetgroup\":\"roots\",\"orientation\":\"v\",\"showlegend\":true,\"textposition\":\"auto\",\"x\":[\"China\",\"East Asia & Pacific\",\"Europe & Central Asia\",\"High income\",\"India\",\"Latin America & Caribbean\",\"Low income\",\"Lower middle income\",\"Middle East & North Africa\",\"North America\",\"South Asia\",\"Sub-Saharan Africa\",\"Upper middle income\"],\"xaxis\":\"x\",\"y\":[0.0228562314443073,0.0180256734708615,0.0230845162658583,0.014336220616003,0.0161513005317318,0.0127919617549747,0.0745179467664677,0.0391615254553048,0.0236695231817631,0.00882444338389343,0.019252325641848,0.0901923059404153,0.0173475028690747],\"yaxis\":\"y\",\"type\":\"bar\"},{\"alignmentgroup\":\"True\",\"hovertemplate\":\"Food group=ruminant_meat<br>Region=%{x}<br>Protein=%{y}<extra></extra>\",\"legendgroup\":\"ruminant_meat\",\"marker\":{\"color\":\"rgb(255,255,179)\",\"pattern\":{\"shape\":\"\"}},\"name\":\"ruminant_meat\",\"offsetgroup\":\"ruminant_meat\",\"orientation\":\"v\",\"showlegend\":true,\"textposition\":\"auto\",\"x\":[\"China\",\"East Asia & Pacific\",\"Europe & Central Asia\",\"High income\",\"India\",\"Latin America & Caribbean\",\"Low income\",\"Lower middle income\",\"Middle East & North Africa\",\"North America\",\"South Asia\",\"Sub-Saharan Africa\",\"Upper middle income\"],\"xaxis\":\"x\",\"y\":[0.0286616101424962,0.0430839873973361,0.0450862106975094,0.0626463198915061,0.0169681960583708,0.0781743618661862,0.0537744085843474,0.0454891997310254,0.0634677716493922,0.0619692198707872,0.0490394124618044,0.0623842477059344,0.0614699864738573],\"yaxis\":\"y\",\"type\":\"bar\"},{\"alignmentgroup\":\"True\",\"hovertemplate\":\"Food group=soybeans<br>Region=%{x}<br>Protein=%{y}<extra></extra>\",\"legendgroup\":\"soybeans\",\"marker\":{\"color\":\"rgb(190,186,218)\",\"pattern\":{\"shape\":\"\"}},\"name\":\"soybeans\",\"offsetgroup\":\"soybeans\",\"orientation\":\"v\",\"showlegend\":true,\"textposition\":\"auto\",\"x\":[\"China\",\"East Asia & Pacific\",\"Europe & Central Asia\",\"High income\",\"India\",\"Latin America & Caribbean\",\"Low income\",\"Lower middle income\",\"Middle East & North Africa\",\"North America\",\"South Asia\",\"Sub-Saharan Africa\",\"Upper middle income\"],\"xaxis\":\"x\",\"y\":[0.0151852769045882,0.00558781970065306,0.00678031055272897,0.105685596859969,0.0223866214584351,0.286719179560161,0.0028132984787803,0.00964207462694561,0.00108963687187856,0.217876191206673,0.000678007994139653,0.00546529019774604,0.165496566445213],\"yaxis\":\"y\",\"type\":\"bar\"},{\"alignmentgroup\":\"True\",\"hovertemplate\":\"Food group=sugar<br>Region=%{x}<br>Protein=%{y}<extra></extra>\",\"legendgroup\":\"sugar\",\"marker\":{\"color\":\"rgb(251,128,114)\",\"pattern\":{\"shape\":\"\"}},\"name\":\"sugar\",\"offsetgroup\":\"sugar\",\"orientation\":\"v\",\"showlegend\":true,\"textposition\":\"auto\",\"x\":[\"China\",\"East Asia & Pacific\",\"Europe & Central Asia\",\"High income\",\"India\",\"Latin America & Caribbean\",\"Low income\",\"Lower middle income\",\"Middle East & North Africa\",\"North America\",\"South Asia\",\"Sub-Saharan Africa\",\"Upper middle income\"],\"xaxis\":\"x\",\"y\":[0.000341923670656332,0.00115507793118023,0.000703787879379512,0.000546686240003725,0.00124614654560551,0.00231731958087734,0.000235811828491559,0.000744172885754611,0.000600942887463353,0.000303342235666222,0.000789158235366475,0.000432691531859242,0.00179285972107584],\"yaxis\":\"y\",\"type\":\"bar\"},{\"alignmentgroup\":\"True\",\"hovertemplate\":\"Food group=vegetables<br>Region=%{x}<br>Protein=%{y}<extra></extra>\",\"legendgroup\":\"vegetables\",\"marker\":{\"color\":\"rgb(128,177,211)\",\"pattern\":{\"shape\":\"\"}},\"name\":\"vegetables\",\"offsetgroup\":\"vegetables\",\"orientation\":\"v\",\"showlegend\":true,\"textposition\":\"auto\",\"x\":[\"China\",\"East Asia & Pacific\",\"Europe & Central Asia\",\"High income\",\"India\",\"Latin America & Caribbean\",\"Low income\",\"Lower middle income\",\"Middle East & North Africa\",\"North America\",\"South Asia\",\"Sub-Saharan Africa\",\"Upper middle income\"],\"xaxis\":\"x\",\"y\":[0.0892198351992939,0.0263243983929671,0.0212069090476811,0.0159461255981873,0.0334489041386664,0.0109759870498989,0.0185747985133674,0.0247292376607931,0.0503326534573512,0.00918052763926646,0.0137025796342395,0.018598981662262,0.0176239759490138],\"yaxis\":\"y\",\"type\":\"bar\"}],                        {\"template\":{\"data\":{\"histogram2dcontour\":[{\"type\":\"histogram2dcontour\",\"colorbar\":{\"outlinewidth\":0,\"ticks\":\"\"},\"colorscale\":[[0.0,\"#0d0887\"],[0.1111111111111111,\"#46039f\"],[0.2222222222222222,\"#7201a8\"],[0.3333333333333333,\"#9c179e\"],[0.4444444444444444,\"#bd3786\"],[0.5555555555555556,\"#d8576b\"],[0.6666666666666666,\"#ed7953\"],[0.7777777777777778,\"#fb9f3a\"],[0.8888888888888888,\"#fdca26\"],[1.0,\"#f0f921\"]]}],\"choropleth\":[{\"type\":\"choropleth\",\"colorbar\":{\"outlinewidth\":0,\"ticks\":\"\"}}],\"histogram2d\":[{\"type\":\"histogram2d\",\"colorbar\":{\"outlinewidth\":0,\"ticks\":\"\"},\"colorscale\":[[0.0,\"#0d0887\"],[0.1111111111111111,\"#46039f\"],[0.2222222222222222,\"#7201a8\"],[0.3333333333333333,\"#9c179e\"],[0.4444444444444444,\"#bd3786\"],[0.5555555555555556,\"#d8576b\"],[0.6666666666666666,\"#ed7953\"],[0.7777777777777778,\"#fb9f3a\"],[0.8888888888888888,\"#fdca26\"],[1.0,\"#f0f921\"]]}],\"heatmap\":[{\"type\":\"heatmap\",\"colorbar\":{\"outlinewidth\":0,\"ticks\":\"\"},\"colorscale\":[[0.0,\"#0d0887\"],[0.1111111111111111,\"#46039f\"],[0.2222222222222222,\"#7201a8\"],[0.3333333333333333,\"#9c179e\"],[0.4444444444444444,\"#bd3786\"],[0.5555555555555556,\"#d8576b\"],[0.6666666666666666,\"#ed7953\"],[0.7777777777777778,\"#fb9f3a\"],[0.8888888888888888,\"#fdca26\"],[1.0,\"#f0f921\"]]}],\"heatmapgl\":[{\"type\":\"heatmapgl\",\"colorbar\":{\"outlinewidth\":0,\"ticks\":\"\"},\"colorscale\":[[0.0,\"#0d0887\"],[0.1111111111111111,\"#46039f\"],[0.2222222222222222,\"#7201a8\"],[0.3333333333333333,\"#9c179e\"],[0.4444444444444444,\"#bd3786\"],[0.5555555555555556,\"#d8576b\"],[0.6666666666666666,\"#ed7953\"],[0.7777777777777778,\"#fb9f3a\"],[0.8888888888888888,\"#fdca26\"],[1.0,\"#f0f921\"]]}],\"contourcarpet\":[{\"type\":\"contourcarpet\",\"colorbar\":{\"outlinewidth\":0,\"ticks\":\"\"}}],\"contour\":[{\"type\":\"contour\",\"colorbar\":{\"outlinewidth\":0,\"ticks\":\"\"},\"colorscale\":[[0.0,\"#0d0887\"],[0.1111111111111111,\"#46039f\"],[0.2222222222222222,\"#7201a8\"],[0.3333333333333333,\"#9c179e\"],[0.4444444444444444,\"#bd3786\"],[0.5555555555555556,\"#d8576b\"],[0.6666666666666666,\"#ed7953\"],[0.7777777777777778,\"#fb9f3a\"],[0.8888888888888888,\"#fdca26\"],[1.0,\"#f0f921\"]]}],\"surface\":[{\"type\":\"surface\",\"colorbar\":{\"outlinewidth\":0,\"ticks\":\"\"},\"colorscale\":[[0.0,\"#0d0887\"],[0.1111111111111111,\"#46039f\"],[0.2222222222222222,\"#7201a8\"],[0.3333333333333333,\"#9c179e\"],[0.4444444444444444,\"#bd3786\"],[0.5555555555555556,\"#d8576b\"],[0.6666666666666666,\"#ed7953\"],[0.7777777777777778,\"#fb9f3a\"],[0.8888888888888888,\"#fdca26\"],[1.0,\"#f0f921\"]]}],\"mesh3d\":[{\"type\":\"mesh3d\",\"colorbar\":{\"outlinewidth\":0,\"ticks\":\"\"}}],\"scatter\":[{\"fillpattern\":{\"fillmode\":\"overlay\",\"size\":10,\"solidity\":0.2},\"type\":\"scatter\"}],\"parcoords\":[{\"type\":\"parcoords\",\"line\":{\"colorbar\":{\"outlinewidth\":0,\"ticks\":\"\"}}}],\"scatterpolargl\":[{\"type\":\"scatterpolargl\",\"marker\":{\"colorbar\":{\"outlinewidth\":0,\"ticks\":\"\"}}}],\"bar\":[{\"error_x\":{\"color\":\"#2a3f5f\"},\"error_y\":{\"color\":\"#2a3f5f\"},\"marker\":{\"line\":{\"color\":\"#E5ECF6\",\"width\":0.5},\"pattern\":{\"fillmode\":\"overlay\",\"size\":10,\"solidity\":0.2}},\"type\":\"bar\"}],\"scattergeo\":[{\"type\":\"scattergeo\",\"marker\":{\"colorbar\":{\"outlinewidth\":0,\"ticks\":\"\"}}}],\"scatterpolar\":[{\"type\":\"scatterpolar\",\"marker\":{\"colorbar\":{\"outlinewidth\":0,\"ticks\":\"\"}}}],\"histogram\":[{\"marker\":{\"pattern\":{\"fillmode\":\"overlay\",\"size\":10,\"solidity\":0.2}},\"type\":\"histogram\"}],\"scattergl\":[{\"type\":\"scattergl\",\"marker\":{\"colorbar\":{\"outlinewidth\":0,\"ticks\":\"\"}}}],\"scatter3d\":[{\"type\":\"scatter3d\",\"line\":{\"colorbar\":{\"outlinewidth\":0,\"ticks\":\"\"}},\"marker\":{\"colorbar\":{\"outlinewidth\":0,\"ticks\":\"\"}}}],\"scattermapbox\":[{\"type\":\"scattermapbox\",\"marker\":{\"colorbar\":{\"outlinewidth\":0,\"ticks\":\"\"}}}],\"scatterternary\":[{\"type\":\"scatterternary\",\"marker\":{\"colorbar\":{\"outlinewidth\":0,\"ticks\":\"\"}}}],\"scattercarpet\":[{\"type\":\"scattercarpet\",\"marker\":{\"colorbar\":{\"outlinewidth\":0,\"ticks\":\"\"}}}],\"carpet\":[{\"aaxis\":{\"endlinecolor\":\"#2a3f5f\",\"gridcolor\":\"white\",\"linecolor\":\"white\",\"minorgridcolor\":\"white\",\"startlinecolor\":\"#2a3f5f\"},\"baxis\":{\"endlinecolor\":\"#2a3f5f\",\"gridcolor\":\"white\",\"linecolor\":\"white\",\"minorgridcolor\":\"white\",\"startlinecolor\":\"#2a3f5f\"},\"type\":\"carpet\"}],\"table\":[{\"cells\":{\"fill\":{\"color\":\"#EBF0F8\"},\"line\":{\"color\":\"white\"}},\"header\":{\"fill\":{\"color\":\"#C8D4E3\"},\"line\":{\"color\":\"white\"}},\"type\":\"table\"}],\"barpolar\":[{\"marker\":{\"line\":{\"color\":\"#E5ECF6\",\"width\":0.5},\"pattern\":{\"fillmode\":\"overlay\",\"size\":10,\"solidity\":0.2}},\"type\":\"barpolar\"}],\"pie\":[{\"automargin\":true,\"type\":\"pie\"}]},\"layout\":{\"autotypenumbers\":\"strict\",\"colorway\":[\"#636efa\",\"#EF553B\",\"#00cc96\",\"#ab63fa\",\"#FFA15A\",\"#19d3f3\",\"#FF6692\",\"#B6E880\",\"#FF97FF\",\"#FECB52\"],\"font\":{\"color\":\"#2a3f5f\"},\"hovermode\":\"closest\",\"hoverlabel\":{\"align\":\"left\"},\"paper_bgcolor\":\"white\",\"plot_bgcolor\":\"#E5ECF6\",\"polar\":{\"bgcolor\":\"#E5ECF6\",\"angularaxis\":{\"gridcolor\":\"white\",\"linecolor\":\"white\",\"ticks\":\"\"},\"radialaxis\":{\"gridcolor\":\"white\",\"linecolor\":\"white\",\"ticks\":\"\"}},\"ternary\":{\"bgcolor\":\"#E5ECF6\",\"aaxis\":{\"gridcolor\":\"white\",\"linecolor\":\"white\",\"ticks\":\"\"},\"baxis\":{\"gridcolor\":\"white\",\"linecolor\":\"white\",\"ticks\":\"\"},\"caxis\":{\"gridcolor\":\"white\",\"linecolor\":\"white\",\"ticks\":\"\"}},\"coloraxis\":{\"colorbar\":{\"outlinewidth\":0,\"ticks\":\"\"}},\"colorscale\":{\"sequential\":[[0.0,\"#0d0887\"],[0.1111111111111111,\"#46039f\"],[0.2222222222222222,\"#7201a8\"],[0.3333333333333333,\"#9c179e\"],[0.4444444444444444,\"#bd3786\"],[0.5555555555555556,\"#d8576b\"],[0.6666666666666666,\"#ed7953\"],[0.7777777777777778,\"#fb9f3a\"],[0.8888888888888888,\"#fdca26\"],[1.0,\"#f0f921\"]],\"sequentialminus\":[[0.0,\"#0d0887\"],[0.1111111111111111,\"#46039f\"],[0.2222222222222222,\"#7201a8\"],[0.3333333333333333,\"#9c179e\"],[0.4444444444444444,\"#bd3786\"],[0.5555555555555556,\"#d8576b\"],[0.6666666666666666,\"#ed7953\"],[0.7777777777777778,\"#fb9f3a\"],[0.8888888888888888,\"#fdca26\"],[1.0,\"#f0f921\"]],\"diverging\":[[0,\"#8e0152\"],[0.1,\"#c51b7d\"],[0.2,\"#de77ae\"],[0.3,\"#f1b6da\"],[0.4,\"#fde0ef\"],[0.5,\"#f7f7f7\"],[0.6,\"#e6f5d0\"],[0.7,\"#b8e186\"],[0.8,\"#7fbc41\"],[0.9,\"#4d9221\"],[1,\"#276419\"]]},\"xaxis\":{\"gridcolor\":\"white\",\"linecolor\":\"white\",\"ticks\":\"\",\"title\":{\"standoff\":15},\"zerolinecolor\":\"white\",\"automargin\":true,\"zerolinewidth\":2},\"yaxis\":{\"gridcolor\":\"white\",\"linecolor\":\"white\",\"ticks\":\"\",\"title\":{\"standoff\":15},\"zerolinecolor\":\"white\",\"automargin\":true,\"zerolinewidth\":2},\"scene\":{\"xaxis\":{\"backgroundcolor\":\"#E5ECF6\",\"gridcolor\":\"white\",\"linecolor\":\"white\",\"showbackground\":true,\"ticks\":\"\",\"zerolinecolor\":\"white\",\"gridwidth\":2},\"yaxis\":{\"backgroundcolor\":\"#E5ECF6\",\"gridcolor\":\"white\",\"linecolor\":\"white\",\"showbackground\":true,\"ticks\":\"\",\"zerolinecolor\":\"white\",\"gridwidth\":2},\"zaxis\":{\"backgroundcolor\":\"#E5ECF6\",\"gridcolor\":\"white\",\"linecolor\":\"white\",\"showbackground\":true,\"ticks\":\"\",\"zerolinecolor\":\"white\",\"gridwidth\":2}},\"shapedefaults\":{\"line\":{\"color\":\"#2a3f5f\"}},\"annotationdefaults\":{\"arrowcolor\":\"#2a3f5f\",\"arrowhead\":0,\"arrowwidth\":1},\"geo\":{\"bgcolor\":\"white\",\"landcolor\":\"#E5ECF6\",\"subunitcolor\":\"white\",\"showland\":true,\"showlakes\":true,\"lakecolor\":\"white\"},\"title\":{\"x\":0.05},\"mapbox\":{\"style\":\"light\"}}},\"xaxis\":{\"anchor\":\"y\",\"domain\":[0.0,1.0],\"title\":{\"text\":\"Region\"}},\"yaxis\":{\"anchor\":\"x\",\"domain\":[0.0,1.0],\"title\":{\"text\":\"Protein\"}},\"legend\":{\"title\":{\"text\":\"Food group\"},\"tracegroupgap\":0},\"margin\":{\"t\":60},\"barmode\":\"relative\"},                        {\"responsive\": true}                    ).then(function(){\n",
       "                            \n",
       "var gd = document.getElementById('d1ff0f88-c460-4f88-9369-4cf3db6429f4');\n",
       "var x = new MutationObserver(function (mutations, observer) {{\n",
       "        var display = window.getComputedStyle(gd).display;\n",
       "        if (!display || display === 'none') {{\n",
       "            console.log([gd, 'removed!']);\n",
       "            Plotly.purge(gd);\n",
       "            observer.disconnect();\n",
       "        }}\n",
       "}});\n",
       "\n",
       "// Listen for the removal of the full notebook cells\n",
       "var notebookContainer = gd.closest('#notebook-container');\n",
       "if (notebookContainer) {{\n",
       "    x.observe(notebookContainer, {childList: true});\n",
       "}}\n",
       "\n",
       "// Listen for the clearing of the current output cell\n",
       "var outputEl = gd.closest('.output');\n",
       "if (outputEl) {{\n",
       "    x.observe(outputEl, {childList: true});\n",
       "}}\n",
       "\n",
       "                        })                };                });            </script>        </div>"
      ]
     },
     "metadata": {},
     "output_type": "display_data"
    }
   ],
   "source": [
    "Protein_contrib = foodgroup_contrib[['Food group', 'Region', 'Protein']]\n",
    "# fig = go.Figure()\n",
    "\n",
    "stack_bar1 = px.bar(data_frame=foodgroup_contrib, x=\"Region\", y='Protein', color=\"Food group\", color_discrete_sequence = bar_color, text_auto=False)\n",
    "stack_bar1.show(renderer=\"iframe\")\n"
   ]
  },
  {
   "cell_type": "code",
   "execution_count": 60,
   "id": "d2fb5ca6",
   "metadata": {},
   "outputs": [],
   "source": [
    "stack_bar1.write_html(\"../website/global_pages/protein_contrib.html\")"
   ]
  },
  {
   "cell_type": "code",
   "execution_count": null,
   "id": "60a114bd-8705-4a9e-886c-12f89ee200d1",
   "metadata": {},
   "outputs": [],
   "source": []
  }
 ],
 "metadata": {
  "kernelspec": {
   "display_name": "Python 3 (ipykernel)",
   "language": "python",
   "name": "python3"
  },
  "language_info": {
   "codemirror_mode": {
    "name": "ipython",
    "version": 3
   },
   "file_extension": ".py",
   "mimetype": "text/x-python",
   "name": "python",
   "nbconvert_exporter": "python",
   "pygments_lexer": "ipython3",
   "version": "3.10.9"
  },
  "toc": {
   "base_numbering": 1,
   "nav_menu": {},
   "number_sections": true,
   "sideBar": true,
   "skip_h1_title": false,
   "title_cell": "Table of Contents",
   "title_sidebar": "Contents",
   "toc_cell": false,
   "toc_position": {},
   "toc_section_display": true,
   "toc_window_display": false
  }
 },
 "nbformat": 4,
 "nbformat_minor": 5
}
